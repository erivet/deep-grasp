{
  "nbformat": 4,
  "nbformat_minor": 0,
  "metadata": {
    "colab": {
      "name": "11 avril corrigé Base de données et Entrainement",
      "version": "0.3.2",
      "provenance": [],
      "collapsed_sections": [
        "zT1laTgvhTpQ",
        "HE-yyAyikVZ8"
      ],
      "toc_visible": true
    },
    "kernelspec": {
      "name": "python3",
      "display_name": "Python 3"
    },
    "accelerator": "GPU"
  },
  "cells": [
    {
      "cell_type": "markdown",
      "metadata": {
        "id": "view-in-github",
        "colab_type": "text"
      },
      "source": [
        "[View in Colaboratory](https://colab.research.google.com/github/etienneRiv/deep-grasp/blob/master/Extraction_Base_de_donn%C3%A9es_et_Entrainement.ipynb)"
      ]
    },
    {
      "metadata": {
        "id": "uy6bwiNUZZP7",
        "colab_type": "text"
      },
      "cell_type": "markdown",
      "source": [
        "##Obtention du jeu de données"
      ]
    },
    {
      "metadata": {
        "id": "DvEEItsMg5nm",
        "colab_type": "text"
      },
      "cell_type": "markdown",
      "source": [
        "# Mise en forme de la base de données"
      ]
    },
    {
      "metadata": {
        "id": "X-2kInTtduxK",
        "colab_type": "text"
      },
      "cell_type": "markdown",
      "source": [
        "Pour pouvoir être exploité, le jeu de données doit d'abord être sur la machine virtuelle Colab. Ce code est là pour ça. Si vous n'utilisez pas votre machine pendant  un certains temps, elle est recyclée: les fichiers téléchargés ne sont pas gardés. IL faut alors tout recompiler."
      ]
    },
    {
      "metadata": {
        "id": "R_Qq5A6sp6ae",
        "colab_type": "code",
        "colab": {
          "base_uri": "https://localhost:8080/",
          "height": 375
        },
        "outputId": "1915d1a1-6793-42da-f386-7ab9f1c4d405"
      },
      "cell_type": "code",
      "source": [
        "!pip install --upgrade git+https://github.com/jobevers/diagonal-crop.git\n",
        "!pip install wget"
      ],
      "execution_count": 2,
      "outputs": [
        {
          "output_type": "stream",
          "text": [
            "Collecting git+https://github.com/jobevers/diagonal-crop.git\r\n",
            "  Cloning https://github.com/jobevers/diagonal-crop.git to /tmp/pip-ns3yqaz_-build\n",
            "Collecting pillow>=3.1.1 (from diagonal-crop==1.0.0)\n",
            "  Downloading Pillow-5.1.0-cp36-cp36m-manylinux1_x86_64.whl (2.0MB)\n",
            "\u001b[K    100% |████████████████████████████████| 2.0MB 666kB/s \n",
            "\u001b[?25hInstalling collected packages: pillow, diagonal-crop\n",
            "  Found existing installation: Pillow 4.0.0\n",
            "    Uninstalling Pillow-4.0.0:\n",
            "      Successfully uninstalled Pillow-4.0.0\n",
            "  Running setup.py install for diagonal-crop ... \u001b[?25l-\b \bdone\n",
            "\u001b[?25hSuccessfully installed diagonal-crop-1.0.0 pillow-5.1.0\n",
            "Collecting wget\n",
            "  Downloading wget-3.2.zip\n",
            "Building wheels for collected packages: wget\n",
            "  Running setup.py bdist_wheel for wget ... \u001b[?25l-\b \bdone\n",
            "\u001b[?25h  Stored in directory: /content/.cache/pip/wheels/6d/98/29/61ccc41148f871009126c2e844e26f73eeb25e12cca92228a5\n",
            "Successfully built wget\n",
            "Installing collected packages: wget\n",
            "Successfully installed wget-3.2\n"
          ],
          "name": "stdout"
        }
      ]
    },
    {
      "metadata": {
        "id": "xN3OFDkIaoYZ",
        "colab_type": "text"
      },
      "cell_type": "markdown",
      "source": [
        "### Après avoir exécuté le code précédent, allez dans le menu Exécution / redémarrer l'environnement d'exécution (ou ctrl+M)\n",
        "#### Il y a un bug avec diagonal-crop, qui risque de ne pas fonctionner correctement sinon. Son installation de Pillow est en conflit avec celle d'origine sur Colab"
      ]
    },
    {
      "metadata": {
        "id": "aCsRqgW3gtaJ",
        "colab_type": "code",
        "colab": {}
      },
      "cell_type": "code",
      "source": [
        "import numpy as np\n",
        "from PIL import Image\n",
        "import diagonal_crop\n",
        "import matplotlib.pyplot as plt\n",
        "import os #pour créer des dossiers\n",
        "import glob #pour manipuler les noms de fichiers\n",
        "import wget #pour télécharger des fichiers sur internet\n",
        "import tarfile #pour décompresser des fichiers"
      ],
      "execution_count": 0,
      "outputs": []
    },
    {
      "metadata": {
        "id": "FjngZTkobMhJ",
        "colab_type": "text"
      },
      "cell_type": "markdown",
      "source": [
        "Le code suivant permet d'extraire les images des grasps labelisés et les stocker."
      ]
    },
    {
      "metadata": {
        "id": "hlVnoC7ltl9K",
        "colab_type": "code",
        "colab": {}
      },
      "cell_type": "code",
      "source": [
        "def process_graspbox(name):\n",
        "    \"\"\"Permet d'extraire les points du fichier de labels\"\"\"\n",
        "    f=open(name, 'r')\n",
        "    graspbox = list(map(\n",
        "        lambda coordinate: float(coordinate), f.read().strip().split()))    \n",
        "    return graspbox"
      ],
      "execution_count": 0,
      "outputs": []
    },
    {
      "metadata": {
        "id": "fWcl3K_ptpDf",
        "colab_type": "code",
        "colab": {}
      },
      "cell_type": "code",
      "source": [
        "def process_rectangles(graspbox):\n",
        "    \"\"\"Rassembler chaque rectangle composé de 4 points\"\"\"\n",
        "    rectangles_grasp=[]\n",
        "    indices_min=[]\n",
        "    for i in range(0,len(graspbox)):\n",
        "        if i%8==0:\n",
        "            NaN=0\n",
        "            rect=graspbox[i:i+8]\n",
        "            points=[]\n",
        "            ind_mini=0\n",
        "            mini=rect[0]\n",
        "            for j in range(0,len(rect),2):\n",
        "                points.append(rect[j:j+2])\n",
        "                if rect[j]<mini:\n",
        "                    mini=rect[j]\n",
        "                    ind_mini=j\n",
        "            for k in rect:\n",
        "                if np.isnan(k)==True:\n",
        "                    NaN=1\n",
        "            if NaN==0:\n",
        "                rectangles_grasp.append(points)\n",
        "                indices_min.append(ind_mini)\n",
        "    return rectangles_grasp, indices_min"
      ],
      "execution_count": 0,
      "outputs": []
    },
    {
      "metadata": {
        "id": "4NSVP0Ehts-I",
        "colab_type": "code",
        "colab": {}
      },
      "cell_type": "code",
      "source": [
        "def rectangle_to_grasp(rectangles_graspbox, index_rectangle,indices_min):\n",
        "    \"\"\"Obtenir le grasp sous forme (x_centre, y_centre, theta, hauteur, largeur)\"\"\"\n",
        "    rect=rectangles_graspbox[index_rectangle]\n",
        "    indice_base=indices_min[index_rectangle]\n",
        "    height = np.sqrt(np.power(rect[1][0]-rect[0][0],2)+np.power(rect[1][1]-rect[0][1],2))\n",
        "    width = np.sqrt(np.power(rect[3][0]-rect[0][0],2)+np.power(rect[3][1]-rect[0][1],2))\n",
        "    x= (rect[2][0]+rect[0][0])/2\n",
        "    y=(rect[2][1]+rect[0][1])/2\n",
        "    if (rect[2][0]-rect[1][0]) != 0: #Gestion de la discontinuité de tan.\n",
        "        tan_theta=(rect[2][1]-rect[1][1])/(rect[2][0]-rect[1][0])\n",
        "        theta=-np.arctan(tan_theta)\n",
        "    else:\n",
        "        theta= np.pi/2\n",
        "    x_base=rect[indice_base//2][0]\n",
        "    y_base=rect[indice_base//2][1]\n",
        "    return x,y,theta,height,width,x_base,y_base"
      ],
      "execution_count": 0,
      "outputs": []
    },
    {
      "metadata": {
        "id": "E8ROukA-tvX7",
        "colab_type": "code",
        "colab": {}
      },
      "cell_type": "code",
      "source": [
        "def extraire_rect_specifique(im, x_base,y_base, angle, height, width):\n",
        "    \"\"\"Extraction d'un rectangle spécifique dans une image deja ouverte.\"\"\"\n",
        "    base=(x_base,y_base)\n",
        "    rect = diagonal_crop.crop(im, base, angle, height, width)\n",
        "    return rect"
      ],
      "execution_count": 0,
      "outputs": []
    },
    {
      "metadata": {
        "id": "xdA04948typV",
        "colab_type": "code",
        "colab": {}
      },
      "cell_type": "code",
      "source": [
        "def stockage_rect(rect,classe,rootFolder,im_name,caract_rect):\n",
        "    \"\"\"Stocker le rectangle dans des sous-dossiers, que le fonction créé s'ils n'existent pas déjà.\"\"\"\n",
        "    x,y,theta,height,width,x_base,y_base=caract_rect\n",
        "    angle=theta*360/(2*np.pi)\n",
        "    filename=str(classe)+'_x'+str(int(x_base))+'_y'+str(int(y_base))+'_t'+str(int(angle))+'_h'+str(int(height))+'_w'+str(int(width))+im_name[:-5]+'.png'\n",
        "    outputFolder=rootFolder\n",
        "    if not os.path.exists(outputFolder):\n",
        "        os.makedirs(outputFolder)\n",
        "    rect.save(outputFolder +'/'+ filename, \"PNG\")\n",
        "    return"
      ],
      "execution_count": 0,
      "outputs": []
    },
    {
      "metadata": {
        "id": "wLOqWAUJt143",
        "colab_type": "code",
        "colab": {}
      },
      "cell_type": "code",
      "source": [
        "def save_labeled_rect(imagefilename, dataFolder, saveFolder, classArray):\n",
        "    \"\"\"L'ensemble du process pour UNE image. Renvoi le nombre de rectangles de chaque classe \n",
        "    et une array avec la liste ordonnée des classes des rectangles de l'image.\"\"\"\n",
        "    os.chdir(dataFolder)\n",
        "    im = Image.open(imagefilename)\n",
        "    \n",
        "   \n",
        "    cpos=imagefilename[:-5]+'cpos.txt'\n",
        "    rects_pos,indices_pos=process_rectangles(process_graspbox(cpos))\n",
        "    \n",
        "    cneg=imagefilename[:-5]+'cneg.txt'\n",
        "    rects_neg,indices_neg=process_rectangles(process_graspbox(cneg))\n",
        "    \n",
        "    i,j=0,0\n",
        "    \n",
        "    for i in range(len(rects_pos)):\n",
        "        caract_rect= rectangle_to_grasp(rects_pos,i,indices_pos)\n",
        "        x,y,theta,height,width,x_base,y_base=caract_rect\n",
        "        rect=extraire_rect_specifique(im,x_base,y_base,theta,height,width)\n",
        "        stockage_rect(rect,1,saveFolder,imagefilename,caract_rect)\n",
        "        classArray.append(1)\n",
        "    \n",
        "    for j in range(len(rects_neg)):\n",
        "        caract_rect= rectangle_to_grasp(rects_neg,j,indices_neg)\n",
        "        x,y,theta,height,width,x_base,y_base=caract_rect\n",
        "        rect=extraire_rect_specifique(im,x_base,y_base,theta,height,width)\n",
        "        stockage_rect(rect,0,saveFolder,imagefilename,caract_rect)\n",
        "        classArray.append(0)\n",
        "        \"\"\"\n",
        "    print('File: '+ imagefilename[:-5])\n",
        "    if i !=0:\n",
        "        print('Classe 1: '+str(i+1))\n",
        "    else: \n",
        "        print('Classe 1: 0')\n",
        "    if j!=0:\n",
        "        print('Classe 0: '+str(j+1))\n",
        "    else:\n",
        "        print('Classe0: 0')\n",
        "        \"\"\"\n",
        "    return i,j,classArray"
      ],
      "execution_count": 0,
      "outputs": []
    },
    {
      "metadata": {
        "id": "uJuLCFVBetTk",
        "colab_type": "text"
      },
      "cell_type": "markdown",
      "source": [
        ""
      ]
    },
    {
      "metadata": {
        "id": "iO3zJaPjt6Mz",
        "colab_type": "code",
        "colab": {}
      },
      "cell_type": "code",
      "source": [
        "def process_whole_dataset(dataFolder,saveFolder):\n",
        "    \"\"\"Parcours l'ensemble du jeu de donnée sauvée dans dataFolder et extrait tous les rectangles labelisés pour\n",
        "    les stocker sous forme d'images dans une hierarchie de fichier dont le dossier root est saveFolder. Renvoi la liste\n",
        "    ordonnée des classes des rectangles sous forme d'array.\"\"\"\n",
        "    classArray=[]\n",
        "    directory = os.fsencode(dataFolder)\n",
        "    for file in os.listdir(directory):\n",
        "        filename = os.fsdecode(file)\n",
        "        if filename.endswith(\".png\"): \n",
        "            i,j,classArray = save_labeled_rect(filename,dataFolder,saveFolder,classArray)\n",
        "            continue\n",
        "        else:\n",
        "            continue\n",
        "    return classArray"
      ],
      "execution_count": 0,
      "outputs": []
    },
    {
      "metadata": {
        "id": "eqjxNASZbaK0",
        "colab_type": "text"
      },
      "cell_type": "markdown",
      "source": [
        "### Le code suivant permet de télécharger la base de données directement sur le site de Cornell, et d'extraire les images zippées et d'obtenir les rectangles de grasps"
      ]
    },
    {
      "metadata": {
        "id": "TZTfIVpkdO-k",
        "colab_type": "code",
        "colab": {
          "base_uri": "https://localhost:8080/",
          "height": 36
        },
        "outputId": "5207efcb-be12-42e6-f25e-367a8b69a445"
      },
      "cell_type": "code",
      "source": [
        "!pip install tqdm #progress bar\n",
        "from tqdm import tqdm"
      ],
      "execution_count": 9,
      "outputs": [
        {
          "output_type": "stream",
          "text": [
            "Requirement already satisfied: tqdm in /usr/local/lib/python3.6/dist-packages\r\n"
          ],
          "name": "stdout"
        }
      ]
    },
    {
      "metadata": {
        "id": "9F30fbCrYzQZ",
        "colab_type": "code",
        "colab": {
          "base_uri": "https://localhost:8080/",
          "height": 55
        },
        "outputId": "6ff15329-023a-4a00-91b9-9d72c7b7450b"
      },
      "cell_type": "code",
      "source": [
        "for i in tqdm(range(1,11)):\n",
        "  \n",
        "  if i<10:\n",
        "    url='http://pr.cs.cornell.edu/grasping/rect_data/temp/data0'+str(i)+'.tar.gz'\n",
        "    data = wget.download(url)\n",
        "    Udata= tarfile.open('data0'+str(i)+'.tar.gz','r:gz')\n",
        "    uncompressed_data=Udata.extractall('/content/CompleteDataset')\n",
        "    Udata.close()\n",
        "    listeClasses=process_whole_dataset('/content/CompleteDataset/0'+str(i),'/content/ExtractedDataset')\n",
        "  \n",
        "  else:\n",
        "    url='http://pr.cs.cornell.edu/grasping/rect_data/temp/data10'+'.tar.gz'\n",
        "    data = wget.download(url)\n",
        "    Udata= tarfile.open('data10'+'.tar.gz','r:gz')\n",
        "    uncompressed_data=Udata.extractall('/content/CompleteDataset')\n",
        "    Udata.close()\n",
        "    listeClasses=process_whole_dataset('/content/CompleteDataset/10','/content/ExtractedDataset')\n",
        "\n",
        "print('Done !')"
      ],
      "execution_count": 10,
      "outputs": [
        {
          "output_type": "stream",
          "text": [
            "100%|██████████| 10/10 [07:22<00:00, 44.23s/it]"
          ],
          "name": "stderr"
        },
        {
          "output_type": "stream",
          "text": [
            "/n Finished !\n"
          ],
          "name": "stdout"
        },
        {
          "output_type": "stream",
          "text": [
            "\n"
          ],
          "name": "stderr"
        }
      ]
    },
    {
      "metadata": {
        "id": "kBcLTjp-aN52",
        "colab_type": "code",
        "colab": {}
      },
      "cell_type": "code",
      "source": [
        "!du /content/ExtractedDataset #taille du dossier en octets"
      ],
      "execution_count": 0,
      "outputs": []
    },
    {
      "metadata": {
        "id": "e7ID66M1knCa",
        "colab_type": "code",
        "colab": {
          "base_uri": "https://localhost:8080/",
          "height": 55
        },
        "outputId": "e4874b53-8fc6-47e8-aab3-cb4c5a2e1894"
      },
      "cell_type": "code",
      "source": [
        "!ls /content"
      ],
      "execution_count": 0,
      "outputs": [
        {
          "output_type": "stream",
          "text": [
            "CompleteDataset    data01.tar.gz  ExtractedDataset\r\n",
            "data01.tar (1).gz  datalab\t  SeparatedDataset\r\n"
          ],
          "name": "stdout"
        }
      ]
    },
    {
      "metadata": {
        "id": "cr9evoE3b2I_",
        "colab_type": "code",
        "colab": {
          "base_uri": "https://localhost:8080/",
          "height": 36
        },
        "outputId": "371877f6-251b-4158-812c-9c658cf022ab"
      },
      "cell_type": "code",
      "source": [
        "!ls -1 /content/ExtractedDataset | wc -l #nombre de fichiers dans le jeu de données"
      ],
      "execution_count": 12,
      "outputs": [
        {
          "output_type": "stream",
          "text": [
            "16923\r\n"
          ],
          "name": "stdout"
        }
      ]
    },
    {
      "metadata": {
        "id": "5y8LgtqFau-w",
        "colab_type": "code",
        "colab": {}
      },
      "cell_type": "code",
      "source": [
        "!ls /content/ExtractedDataset"
      ],
      "execution_count": 0,
      "outputs": []
    },
    {
      "metadata": {
        "id": "zdr02q8RbwwP",
        "colab_type": "text"
      },
      "cell_type": "markdown",
      "source": [
        "Le code suivant permet de créer les répertoires pour séparer, pour chacune des classes POS et NEG, les échantillons de train / validation / test"
      ]
    },
    {
      "metadata": {
        "id": "VBoWwlKLzltY",
        "colab_type": "code",
        "colab": {}
      },
      "cell_type": "code",
      "source": [
        "original_dataset_dir = '/content/ExtractedDataset'\n",
        "base_dir = '/content/SeparatedDataset'\n",
        "if not os.path.exists(base_dir):\n",
        "  os.mkdir(base_dir)\n",
        "train_dir = os.path.join(base_dir,'train')\n",
        "if not os.path.exists(train_dir):\n",
        "  os.mkdir(train_dir)\n",
        "validation_dir = os.path.join(base_dir,'validation')\n",
        "if not os.path.exists(validation_dir):\n",
        "  os.mkdir(validation_dir)\n",
        "test_dir = os.path.join(base_dir,'test')\n",
        "if not os.path.exists(test_dir):\n",
        "  os.mkdir(test_dir)\n",
        "train_pos_dir = os.path.join(train_dir,'pos')\n",
        "if not os.path.exists(train_pos_dir):\n",
        "  os.mkdir(train_pos_dir)\n",
        "train_neg_dir = os.path.join(train_dir,'neg')\n",
        "if not os.path.exists(train_neg_dir):\n",
        "  os.mkdir(train_neg_dir)\n",
        "validation_pos_dir = os.path.join(validation_dir,'pos')\n",
        "if not os.path.exists(validation_pos_dir):\n",
        "  os.mkdir(validation_pos_dir)\n",
        "validation_neg_dir = os.path.join(validation_dir,'neg')\n",
        "if not os.path.exists(validation_neg_dir):\n",
        "  os.mkdir(validation_neg_dir)\n",
        "test_pos_dir = os.path.join(test_dir,'pos')\n",
        "if not os.path.exists(test_pos_dir):\n",
        "  os.mkdir(test_pos_dir)\n",
        "test_neg_dir = os.path.join(test_dir,'neg')\n",
        "if not os.path.exists(test_neg_dir):\n",
        "  os.mkdir(test_neg_dir)"
      ],
      "execution_count": 0,
      "outputs": []
    },
    {
      "metadata": {
        "id": "GlBDb2e6cB2F",
        "colab_type": "text"
      },
      "cell_type": "markdown",
      "source": [
        "Répartition des rectangles grasps par classe dans les échantillons train / validation / test"
      ]
    },
    {
      "metadata": {
        "id": "SQ-4Azqi28q3",
        "colab_type": "code",
        "colab": {}
      },
      "cell_type": "code",
      "source": [
        "import shutil\n",
        "k=0\n",
        "for name in glob.glob('/content/ExtractedDataset/0_*'):\n",
        "  name=name[26:]\n",
        "  if k<1000:\n",
        "    src=os.path.join(original_dataset_dir, name)\n",
        "    dst=os.path.join(train_neg_dir, name)\n",
        "    shutil.copyfile(src,dst)\n",
        "    k+=1\n",
        "  elif k>=1000 and k<1500:\n",
        "    src=os.path.join(original_dataset_dir, name)\n",
        "    dst=os.path.join(validation_neg_dir, name)\n",
        "    shutil.copyfile(src,dst)\n",
        "    k+=1\n",
        "  elif k>=1500 and k<2000:\n",
        "    src=os.path.join(original_dataset_dir, name)\n",
        "    dst=os.path.join(test_neg_dir, name)\n",
        "    shutil.copyfile(src,dst)\n",
        "    k+=1"
      ],
      "execution_count": 0,
      "outputs": []
    },
    {
      "metadata": {
        "id": "aeyQHlXdY5Ck",
        "colab_type": "code",
        "colab": {}
      },
      "cell_type": "code",
      "source": [
        "k=0\n",
        "for name in glob.glob('/content/ExtractedDataset/1_*'):\n",
        "  name=name[26:]\n",
        "  if k<1000:\n",
        "    src=os.path.join(original_dataset_dir, name)\n",
        "    dst=os.path.join(train_pos_dir, name)\n",
        "    shutil.copyfile(src,dst)\n",
        "    k+=1\n",
        "  elif k>=1000 and k<1500:\n",
        "    src=os.path.join(original_dataset_dir, name)\n",
        "    dst=os.path.join(validation_pos_dir, name)\n",
        "    shutil.copyfile(src,dst)\n",
        "    k+=1\n",
        "  elif k>=1500 and k<2000:\n",
        "    src=os.path.join(original_dataset_dir, name)\n",
        "    dst=os.path.join(test_pos_dir, name)\n",
        "    shutil.copyfile(src,dst)\n",
        "    k+=1"
      ],
      "execution_count": 0,
      "outputs": []
    },
    {
      "metadata": {
        "id": "XDDwmKJUqILk",
        "colab_type": "code",
        "colab": {
          "base_uri": "https://localhost:8080/",
          "height": 130
        },
        "outputId": "61e7b44a-ba42-4c0c-a7b3-ea8060d89e13"
      },
      "cell_type": "code",
      "source": [
        "print('total training pos images:', len(os.listdir(train_pos_dir)))\n",
        "print('total validation pos images:', len(os.listdir(validation_pos_dir)))\n",
        "print('total test pos images:', len(os.listdir(test_pos_dir)))\n",
        "\n",
        "print('total training neg images:', len(os.listdir(train_neg_dir)))\n",
        "print('total validation neg images:', len(os.listdir(validation_neg_dir)))\n",
        "print('total test neg images:', len(os.listdir(test_neg_dir)))\n"
      ],
      "execution_count": 27,
      "outputs": [
        {
          "output_type": "stream",
          "text": [
            "total training pos images: 1000\n",
            "total validation pos images: 500\n",
            "total test pos images: 500\n",
            "total training neg images: 1000\n",
            "total validation neg images: 500\n",
            "total test neg images: 500\n"
          ],
          "name": "stdout"
        }
      ]
    },
    {
      "metadata": {
        "id": "YaX9VLtPhmcI",
        "colab_type": "text"
      },
      "cell_type": "markdown",
      "source": [
        "# Bibliothèques Réseaux"
      ]
    },
    {
      "metadata": {
        "id": "ustNO1snhdWC",
        "colab_type": "code",
        "colab": {
          "base_uri": "https://localhost:8080/",
          "height": 36
        },
        "outputId": "115658fc-d557-4032-81f0-b41357f16c46"
      },
      "cell_type": "code",
      "source": [
        "from keras import layers\n",
        "from keras import models\n",
        "from keras import optimizers\n",
        "from keras.preprocessing.image import ImageDataGenerator\n",
        "from keras.preprocessing import image\n"
      ],
      "execution_count": 3,
      "outputs": [
        {
          "output_type": "stream",
          "text": [
            "Using TensorFlow backend.\n"
          ],
          "name": "stderr"
        }
      ]
    },
    {
      "metadata": {
        "id": "zT1laTgvhTpQ",
        "colab_type": "text"
      },
      "cell_type": "markdown",
      "source": [
        "# Réseau CNN de base"
      ]
    },
    {
      "metadata": {
        "id": "LWewd0xFruLi",
        "colab_type": "code",
        "colab": {}
      },
      "cell_type": "code",
      "source": [
        "model = models.Sequential()\n",
        "model.add(layers.Conv2D(32, (3, 3), activation='relu',input_shape=((50, 50, 3))))\n",
        "model.add(layers.MaxPooling2D((2,2)))\n",
        "model.add(layers.Conv2D(64, (3, 3), activation='relu'))\n",
        "model.add(layers.MaxPooling2D((2, 2)))\n",
        "model.add(layers.Conv2D(128, (3, 3), activation='relu'))\n",
        "model.add(layers.MaxPooling2D((2, 2)))\n",
        "model.add(layers.Conv2D(128, (3, 3), activation='relu'))\n",
        "model.add(layers.MaxPooling2D((2, 2)))\n",
        "model.add(layers.Flatten())\n",
        "model.add(layers.Dense(512, activation='relu'))\n",
        "model.add(layers.Dense(1, activation='sigmoid'))"
      ],
      "execution_count": 0,
      "outputs": []
    },
    {
      "metadata": {
        "id": "1I2-Tp4wimgi",
        "colab_type": "code",
        "colab": {
          "base_uri": "https://localhost:8080/",
          "height": 564
        },
        "outputId": "f755a694-9231-4475-c389-ad7939552226"
      },
      "cell_type": "code",
      "source": [
        "model.summary()"
      ],
      "execution_count": 0,
      "outputs": [
        {
          "output_type": "stream",
          "text": [
            "_________________________________________________________________\n",
            "Layer (type)                 Output Shape              Param #   \n",
            "=================================================================\n",
            "conv2d_1 (Conv2D)            (None, 48, 48, 32)        896       \n",
            "_________________________________________________________________\n",
            "max_pooling2d_1 (MaxPooling2 (None, 24, 24, 32)        0         \n",
            "_________________________________________________________________\n",
            "conv2d_2 (Conv2D)            (None, 22, 22, 64)        18496     \n",
            "_________________________________________________________________\n",
            "max_pooling2d_2 (MaxPooling2 (None, 11, 11, 64)        0         \n",
            "_________________________________________________________________\n",
            "conv2d_3 (Conv2D)            (None, 9, 9, 128)         73856     \n",
            "_________________________________________________________________\n",
            "max_pooling2d_3 (MaxPooling2 (None, 4, 4, 128)         0         \n",
            "_________________________________________________________________\n",
            "conv2d_4 (Conv2D)            (None, 2, 2, 128)         147584    \n",
            "_________________________________________________________________\n",
            "max_pooling2d_4 (MaxPooling2 (None, 1, 1, 128)         0         \n",
            "_________________________________________________________________\n",
            "flatten_1 (Flatten)          (None, 128)               0         \n",
            "_________________________________________________________________\n",
            "dense_1 (Dense)              (None, 512)               66048     \n",
            "_________________________________________________________________\n",
            "dense_2 (Dense)              (None, 1)                 513       \n",
            "=================================================================\n",
            "Total params: 307,393\n",
            "Trainable params: 307,393\n",
            "Non-trainable params: 0\n",
            "_________________________________________________________________\n"
          ],
          "name": "stdout"
        }
      ]
    },
    {
      "metadata": {
        "id": "9ovlYDLQr_mt",
        "colab_type": "code",
        "colab": {}
      },
      "cell_type": "code",
      "source": [
        "model.compile(loss='binary_crossentropy',\n",
        "              optimizer=optimizers.RMSprop(lr=1e-4),\n",
        "              metrics=['acc'])"
      ],
      "execution_count": 0,
      "outputs": []
    },
    {
      "metadata": {
        "id": "6LtRMtlgsCHI",
        "colab_type": "code",
        "colab": {
          "base_uri": "https://localhost:8080/",
          "height": 55
        },
        "outputId": "d11f5880-deb1-4e9e-e04a-3f8a5bade61c"
      },
      "cell_type": "code",
      "source": [
        "train_datagen= ImageDataGenerator(rescale=1./255)\n",
        "test_datagen= ImageDataGenerator(rescale=1./255)\n",
        "train_generator = train_datagen.flow_from_directory(train_dir, \n",
        "                                                    target_size=(50,50),\n",
        "                                                    batch_size=20, \n",
        "                                                    class_mode='binary')\n",
        "validation_generator = train_datagen.flow_from_directory(validation_dir, \n",
        "                                                    target_size=(50,50),\n",
        "                                                    batch_size=20, \n",
        "                                                    class_mode='binary')"
      ],
      "execution_count": 0,
      "outputs": [
        {
          "output_type": "stream",
          "text": [
            "Found 2000 images belonging to 2 classes.\n",
            "Found 1000 images belonging to 2 classes.\n"
          ],
          "name": "stdout"
        }
      ]
    },
    {
      "metadata": {
        "id": "kihdpEFXsWNb",
        "colab_type": "code",
        "colab": {
          "base_uri": "https://localhost:8080/",
          "height": 55
        },
        "outputId": "abc3b894-20a1-4599-d895-fdf4e1bef3e7"
      },
      "cell_type": "code",
      "source": [
        "for data_batch, labels_batch in train_generator:\n",
        "    print('data batch shape:', data_batch.shape)\n",
        "    print('labels batch shape:', labels_batch.shape)\n",
        "    break"
      ],
      "execution_count": 0,
      "outputs": [
        {
          "output_type": "stream",
          "text": [
            "data batch shape: (20, 50, 50, 3)\n",
            "labels batch shape: (20,)\n"
          ],
          "name": "stdout"
        }
      ]
    },
    {
      "metadata": {
        "id": "64MZ-NONsZBA",
        "colab_type": "code",
        "colab": {
          "base_uri": "https://localhost:8080/",
          "height": 3810
        },
        "outputId": "22091cfc-8556-4157-d455-49fd8b3ea3d4"
      },
      "cell_type": "code",
      "source": [
        "history = model.fit_generator(\n",
        "                    train_generator,\n",
        "                    steps_per_epoch=100,\n",
        "                    epochs=100,\n",
        "                    validation_data=validation_generator,\n",
        "                    validation_steps=50)"
      ],
      "execution_count": 0,
      "outputs": [
        {
          "output_type": "stream",
          "text": [
            "Epoch 1/100\n",
            "100/100 [==============================] - 5s 45ms/step - loss: 0.6840 - acc: 0.5610 - val_loss: 0.6611 - val_acc: 0.6720\n",
            "Epoch 2/100\n",
            "100/100 [==============================] - 3s 27ms/step - loss: 0.6377 - acc: 0.6390 - val_loss: 0.5843 - val_acc: 0.7080\n",
            "Epoch 3/100\n",
            "100/100 [==============================] - 3s 28ms/step - loss: 0.5547 - acc: 0.7115 - val_loss: 0.5023 - val_acc: 0.7610\n",
            "Epoch 4/100\n",
            "100/100 [==============================] - 3s 28ms/step - loss: 0.5001 - acc: 0.7300 - val_loss: 0.4694 - val_acc: 0.7620\n",
            "Epoch 5/100\n",
            "100/100 [==============================] - 3s 27ms/step - loss: 0.4675 - acc: 0.7450 - val_loss: 0.4569 - val_acc: 0.7600\n",
            "Epoch 6/100\n",
            "100/100 [==============================] - 3s 25ms/step - loss: 0.4495 - acc: 0.7435 - val_loss: 0.4308 - val_acc: 0.8140\n",
            "Epoch 7/100\n",
            " 37/100 [==========>...................] - ETA: 1s - loss: 0.4456 - acc: 0.7716"
          ],
          "name": "stdout"
        },
        {
          "output_type": "stream",
          "text": [
            "100/100 [==============================] - 3s 27ms/step - loss: 0.4362 - acc: 0.7765 - val_loss: 0.4495 - val_acc: 0.7520\n",
            "Epoch 8/100\n",
            "100/100 [==============================] - 3s 27ms/step - loss: 0.4222 - acc: 0.7745 - val_loss: 0.4391 - val_acc: 0.7640\n",
            "Epoch 9/100\n",
            "100/100 [==============================] - 3s 27ms/step - loss: 0.4134 - acc: 0.7850 - val_loss: 0.4182 - val_acc: 0.8090\n",
            "Epoch 10/100\n",
            "100/100 [==============================] - 3s 27ms/step - loss: 0.4047 - acc: 0.7860 - val_loss: 0.4526 - val_acc: 0.7460\n",
            "Epoch 11/100\n",
            "100/100 [==============================] - 3s 27ms/step - loss: 0.3952 - acc: 0.7970 - val_loss: 0.4250 - val_acc: 0.7710\n",
            "Epoch 12/100\n",
            "100/100 [==============================] - 3s 27ms/step - loss: 0.3931 - acc: 0.8030 - val_loss: 0.4166 - val_acc: 0.8030\n",
            "Epoch 13/100\n",
            " 52/100 [==============>...............] - ETA: 0s - loss: 0.3824 - acc: 0.8087"
          ],
          "name": "stdout"
        },
        {
          "output_type": "stream",
          "text": [
            "100/100 [==============================] - 3s 27ms/step - loss: 0.3848 - acc: 0.8090 - val_loss: 0.4116 - val_acc: 0.8270\n",
            "Epoch 14/100\n",
            "100/100 [==============================] - 3s 28ms/step - loss: 0.3792 - acc: 0.8025 - val_loss: 0.4038 - val_acc: 0.8060\n",
            "Epoch 15/100\n",
            "100/100 [==============================] - 3s 27ms/step - loss: 0.3674 - acc: 0.8090 - val_loss: 0.4065 - val_acc: 0.8270\n",
            "Epoch 16/100\n",
            "100/100 [==============================] - 3s 27ms/step - loss: 0.3656 - acc: 0.8140 - val_loss: 0.4024 - val_acc: 0.8190\n",
            "Epoch 17/100\n",
            "100/100 [==============================] - 3s 27ms/step - loss: 0.3592 - acc: 0.8210 - val_loss: 0.4185 - val_acc: 0.8000\n",
            "Epoch 18/100\n",
            "100/100 [==============================] - 3s 28ms/step - loss: 0.3542 - acc: 0.8265 - val_loss: 0.4188 - val_acc: 0.8080\n",
            "Epoch 19/100\n",
            " 48/100 [=============>................] - ETA: 1s - loss: 0.3395 - acc: 0.8271"
          ],
          "name": "stdout"
        },
        {
          "output_type": "stream",
          "text": [
            "100/100 [==============================] - 3s 28ms/step - loss: 0.3478 - acc: 0.8290 - val_loss: 0.4045 - val_acc: 0.8090\n",
            "Epoch 20/100\n",
            "100/100 [==============================] - 3s 27ms/step - loss: 0.3461 - acc: 0.8305 - val_loss: 0.4469 - val_acc: 0.7600\n",
            "Epoch 21/100\n",
            "100/100 [==============================] - 3s 26ms/step - loss: 0.3391 - acc: 0.8300 - val_loss: 0.3964 - val_acc: 0.8170\n",
            "Epoch 22/100\n",
            "100/100 [==============================] - 3s 27ms/step - loss: 0.3306 - acc: 0.8370 - val_loss: 0.4659 - val_acc: 0.7560\n",
            "Epoch 23/100\n",
            "100/100 [==============================] - 3s 28ms/step - loss: 0.3288 - acc: 0.8345 - val_loss: 0.4026 - val_acc: 0.8140\n",
            "Epoch 24/100\n",
            "100/100 [==============================] - 3s 27ms/step - loss: 0.3257 - acc: 0.8435 - val_loss: 0.3982 - val_acc: 0.8300\n",
            "Epoch 25/100\n",
            " 49/100 [=============>................] - ETA: 1s - loss: 0.3145 - acc: 0.8388"
          ],
          "name": "stdout"
        },
        {
          "output_type": "stream",
          "text": [
            "100/100 [==============================] - 3s 27ms/step - loss: 0.3206 - acc: 0.8345 - val_loss: 0.4157 - val_acc: 0.7840\n",
            "Epoch 26/100\n",
            "100/100 [==============================] - 3s 27ms/step - loss: 0.3156 - acc: 0.8500 - val_loss: 0.4143 - val_acc: 0.8220\n",
            "Epoch 27/100\n",
            "100/100 [==============================] - 3s 27ms/step - loss: 0.3057 - acc: 0.8545 - val_loss: 0.3998 - val_acc: 0.8280\n",
            "Epoch 28/100\n",
            "100/100 [==============================] - 3s 27ms/step - loss: 0.3012 - acc: 0.8455 - val_loss: 0.4350 - val_acc: 0.7720\n",
            "Epoch 29/100\n",
            "100/100 [==============================] - 3s 27ms/step - loss: 0.2931 - acc: 0.8495 - val_loss: 0.4459 - val_acc: 0.8070\n",
            "Epoch 30/100\n",
            "100/100 [==============================] - 3s 27ms/step - loss: 0.2880 - acc: 0.8510 - val_loss: 0.4055 - val_acc: 0.8410\n",
            "Epoch 31/100\n",
            " 46/100 [============>.................] - ETA: 1s - loss: 0.2869 - acc: 0.8598"
          ],
          "name": "stdout"
        },
        {
          "output_type": "stream",
          "text": [
            "100/100 [==============================] - 3s 27ms/step - loss: 0.2833 - acc: 0.8620 - val_loss: 0.4102 - val_acc: 0.8240\n",
            "Epoch 32/100\n",
            "100/100 [==============================] - 3s 27ms/step - loss: 0.2878 - acc: 0.8590 - val_loss: 0.4505 - val_acc: 0.7750\n",
            "Epoch 33/100\n",
            "100/100 [==============================] - 3s 26ms/step - loss: 0.2772 - acc: 0.8595 - val_loss: 0.4302 - val_acc: 0.7850\n",
            "Epoch 34/100\n",
            "100/100 [==============================] - 3s 28ms/step - loss: 0.2699 - acc: 0.8645 - val_loss: 0.4195 - val_acc: 0.8240\n",
            "Epoch 35/100\n",
            "100/100 [==============================] - 3s 26ms/step - loss: 0.2652 - acc: 0.8690 - val_loss: 0.4439 - val_acc: 0.7930\n",
            "Epoch 36/100\n",
            "100/100 [==============================] - 3s 27ms/step - loss: 0.2606 - acc: 0.8655 - val_loss: 0.4942 - val_acc: 0.8030\n",
            "Epoch 37/100\n",
            " 49/100 [=============>................] - ETA: 1s - loss: 0.2742 - acc: 0.8663"
          ],
          "name": "stdout"
        },
        {
          "output_type": "stream",
          "text": [
            "100/100 [==============================] - 3s 27ms/step - loss: 0.2555 - acc: 0.8715 - val_loss: 0.4403 - val_acc: 0.8310\n",
            "Epoch 38/100\n",
            "100/100 [==============================] - 3s 27ms/step - loss: 0.2525 - acc: 0.8735 - val_loss: 0.4870 - val_acc: 0.8060\n",
            "Epoch 39/100\n",
            "100/100 [==============================] - 3s 27ms/step - loss: 0.2467 - acc: 0.8835 - val_loss: 0.4656 - val_acc: 0.8280\n",
            "Epoch 40/100\n",
            "100/100 [==============================] - 3s 26ms/step - loss: 0.2380 - acc: 0.8805 - val_loss: 0.4577 - val_acc: 0.8240\n",
            "Epoch 41/100\n",
            "100/100 [==============================] - 3s 27ms/step - loss: 0.2339 - acc: 0.8915 - val_loss: 0.6237 - val_acc: 0.7750\n",
            "Epoch 42/100\n",
            "100/100 [==============================] - 3s 26ms/step - loss: 0.2371 - acc: 0.8840 - val_loss: 0.4479 - val_acc: 0.7970\n",
            "Epoch 43/100\n",
            " 52/100 [==============>...............] - ETA: 0s - loss: 0.2300 - acc: 0.8856"
          ],
          "name": "stdout"
        },
        {
          "output_type": "stream",
          "text": [
            "100/100 [==============================] - 3s 27ms/step - loss: 0.2285 - acc: 0.8900 - val_loss: 0.4605 - val_acc: 0.8050\n",
            "Epoch 44/100\n",
            "100/100 [==============================] - 3s 26ms/step - loss: 0.2287 - acc: 0.8935 - val_loss: 0.4830 - val_acc: 0.7980\n",
            "Epoch 45/100\n",
            "100/100 [==============================] - 3s 26ms/step - loss: 0.2194 - acc: 0.8905 - val_loss: 0.4703 - val_acc: 0.8370\n",
            "Epoch 46/100\n",
            "100/100 [==============================] - 3s 27ms/step - loss: 0.2134 - acc: 0.8900 - val_loss: 0.4574 - val_acc: 0.8330\n",
            "Epoch 47/100\n",
            "100/100 [==============================] - 3s 28ms/step - loss: 0.2106 - acc: 0.8925 - val_loss: 0.4728 - val_acc: 0.8400\n",
            "Epoch 48/100\n",
            "100/100 [==============================] - 3s 28ms/step - loss: 0.2089 - acc: 0.8955 - val_loss: 0.4665 - val_acc: 0.8440\n",
            "Epoch 49/100\n",
            " 49/100 [=============>................] - ETA: 1s - loss: 0.2044 - acc: 0.9020"
          ],
          "name": "stdout"
        },
        {
          "output_type": "stream",
          "text": [
            "100/100 [==============================] - 3s 27ms/step - loss: 0.2048 - acc: 0.8970 - val_loss: 0.4819 - val_acc: 0.8060\n",
            "Epoch 50/100\n",
            "100/100 [==============================] - 3s 27ms/step - loss: 0.2025 - acc: 0.8935 - val_loss: 0.5399 - val_acc: 0.8100\n",
            "Epoch 51/100\n",
            "100/100 [==============================] - 3s 26ms/step - loss: 0.1980 - acc: 0.8975 - val_loss: 0.4876 - val_acc: 0.8330\n",
            "Epoch 52/100\n",
            "100/100 [==============================] - 3s 27ms/step - loss: 0.1909 - acc: 0.9055 - val_loss: 0.5513 - val_acc: 0.8130\n",
            "Epoch 53/100\n",
            "100/100 [==============================] - 3s 26ms/step - loss: 0.1914 - acc: 0.9040 - val_loss: 0.5166 - val_acc: 0.8380\n",
            "Epoch 54/100\n",
            "100/100 [==============================] - 3s 26ms/step - loss: 0.1903 - acc: 0.9020 - val_loss: 0.5082 - val_acc: 0.8360\n",
            "Epoch 55/100\n",
            " 49/100 [=============>................] - ETA: 1s - loss: 0.1958 - acc: 0.9051"
          ],
          "name": "stdout"
        },
        {
          "output_type": "stream",
          "text": [
            "100/100 [==============================] - 3s 27ms/step - loss: 0.1809 - acc: 0.9125 - val_loss: 0.5571 - val_acc: 0.8190\n",
            "Epoch 56/100\n",
            "100/100 [==============================] - 3s 27ms/step - loss: 0.1827 - acc: 0.9080 - val_loss: 0.5238 - val_acc: 0.8220\n",
            "Epoch 57/100\n",
            "100/100 [==============================] - 3s 27ms/step - loss: 0.1804 - acc: 0.9065 - val_loss: 0.5350 - val_acc: 0.8320\n",
            "Epoch 58/100\n",
            "100/100 [==============================] - 3s 27ms/step - loss: 0.1735 - acc: 0.9095 - val_loss: 0.5416 - val_acc: 0.8110\n",
            "Epoch 59/100\n",
            "100/100 [==============================] - 3s 27ms/step - loss: 0.1721 - acc: 0.9115 - val_loss: 0.5636 - val_acc: 0.8100\n",
            "Epoch 60/100\n",
            "100/100 [==============================] - 3s 27ms/step - loss: 0.1693 - acc: 0.9110 - val_loss: 0.6422 - val_acc: 0.8040\n",
            "Epoch 61/100\n",
            " 51/100 [==============>...............] - ETA: 1s - loss: 0.1689 - acc: 0.9137"
          ],
          "name": "stdout"
        },
        {
          "output_type": "stream",
          "text": [
            "100/100 [==============================] - 3s 27ms/step - loss: 0.1655 - acc: 0.9145 - val_loss: 0.6566 - val_acc: 0.8020\n",
            "Epoch 62/100\n",
            "100/100 [==============================] - 3s 27ms/step - loss: 0.1651 - acc: 0.9130 - val_loss: 0.5595 - val_acc: 0.8370\n",
            "Epoch 63/100\n",
            "100/100 [==============================] - 3s 27ms/step - loss: 0.1643 - acc: 0.9165 - val_loss: 0.5911 - val_acc: 0.8240\n",
            "Epoch 64/100\n",
            "100/100 [==============================] - 3s 27ms/step - loss: 0.1628 - acc: 0.9205 - val_loss: 0.6298 - val_acc: 0.8200\n",
            "Epoch 65/100\n",
            "100/100 [==============================] - 3s 27ms/step - loss: 0.1555 - acc: 0.9135 - val_loss: 0.5929 - val_acc: 0.8320\n",
            "Epoch 66/100\n",
            "100/100 [==============================] - 3s 27ms/step - loss: 0.1515 - acc: 0.9195 - val_loss: 0.6122 - val_acc: 0.8270\n",
            "Epoch 67/100\n",
            " 49/100 [=============>................] - ETA: 0s - loss: 0.1467 - acc: 0.9245"
          ],
          "name": "stdout"
        },
        {
          "output_type": "stream",
          "text": [
            "100/100 [==============================] - 3s 27ms/step - loss: 0.1500 - acc: 0.9240 - val_loss: 0.6542 - val_acc: 0.8220\n",
            "Epoch 68/100\n",
            "100/100 [==============================] - 3s 27ms/step - loss: 0.1535 - acc: 0.9210 - val_loss: 0.6306 - val_acc: 0.8390\n",
            "Epoch 69/100\n",
            "100/100 [==============================] - 3s 27ms/step - loss: 0.1483 - acc: 0.9165 - val_loss: 0.6370 - val_acc: 0.8130\n",
            "Epoch 70/100\n",
            "100/100 [==============================] - 3s 27ms/step - loss: 0.1480 - acc: 0.9225 - val_loss: 0.6902 - val_acc: 0.7970\n",
            "Epoch 71/100\n",
            "100/100 [==============================] - 3s 28ms/step - loss: 0.1445 - acc: 0.9305 - val_loss: 0.6623 - val_acc: 0.8060\n",
            "Epoch 72/100\n",
            "100/100 [==============================] - 3s 27ms/step - loss: 0.1401 - acc: 0.9320 - val_loss: 0.6877 - val_acc: 0.8290\n",
            "Epoch 73/100\n",
            " 49/100 [=============>................] - ETA: 1s - loss: 0.1402 - acc: 0.9204"
          ],
          "name": "stdout"
        },
        {
          "output_type": "stream",
          "text": [
            "100/100 [==============================] - 3s 26ms/step - loss: 0.1421 - acc: 0.9190 - val_loss: 0.6972 - val_acc: 0.8180\n",
            "Epoch 74/100\n",
            "100/100 [==============================] - 3s 26ms/step - loss: 0.1436 - acc: 0.9295 - val_loss: 0.6582 - val_acc: 0.8340\n",
            "Epoch 75/100\n",
            "100/100 [==============================] - 3s 27ms/step - loss: 0.1381 - acc: 0.9255 - val_loss: 0.7557 - val_acc: 0.7960\n",
            "Epoch 76/100\n",
            "100/100 [==============================] - 3s 26ms/step - loss: 0.1355 - acc: 0.9270 - val_loss: 0.7318 - val_acc: 0.8090\n",
            "Epoch 77/100\n",
            "100/100 [==============================] - 3s 27ms/step - loss: 0.1383 - acc: 0.9290 - val_loss: 0.7805 - val_acc: 0.8140\n",
            "Epoch 78/100\n",
            "100/100 [==============================] - 3s 27ms/step - loss: 0.1295 - acc: 0.9305 - val_loss: 0.6852 - val_acc: 0.8330\n",
            "Epoch 79/100\n",
            " 46/100 [============>.................] - ETA: 1s - loss: 0.1315 - acc: 0.9293"
          ],
          "name": "stdout"
        },
        {
          "output_type": "stream",
          "text": [
            "100/100 [==============================] - 3s 27ms/step - loss: 0.1321 - acc: 0.9305 - val_loss: 0.7267 - val_acc: 0.8330\n",
            "Epoch 80/100\n",
            "100/100 [==============================] - 3s 27ms/step - loss: 0.1321 - acc: 0.9295 - val_loss: 0.6955 - val_acc: 0.8320\n",
            "Epoch 81/100\n",
            "100/100 [==============================] - 3s 27ms/step - loss: 0.1265 - acc: 0.9285 - val_loss: 0.7381 - val_acc: 0.8330\n",
            "Epoch 82/100\n",
            "100/100 [==============================] - 3s 27ms/step - loss: 0.1272 - acc: 0.9285 - val_loss: 0.7465 - val_acc: 0.8450\n",
            "Epoch 83/100\n",
            "100/100 [==============================] - 3s 27ms/step - loss: 0.1272 - acc: 0.9330 - val_loss: 0.7571 - val_acc: 0.8330\n",
            "Epoch 84/100\n",
            "100/100 [==============================] - 3s 27ms/step - loss: 0.1210 - acc: 0.9345 - val_loss: 0.7456 - val_acc: 0.8300\n",
            "Epoch 85/100\n",
            " 48/100 [=============>................] - ETA: 1s - loss: 0.1278 - acc: 0.9281"
          ],
          "name": "stdout"
        },
        {
          "output_type": "stream",
          "text": [
            "100/100 [==============================] - 3s 27ms/step - loss: 0.1236 - acc: 0.9315 - val_loss: 0.8079 - val_acc: 0.8110\n",
            "Epoch 86/100\n",
            "100/100 [==============================] - 3s 27ms/step - loss: 0.1185 - acc: 0.9375 - val_loss: 0.7619 - val_acc: 0.8330\n",
            "Epoch 87/100\n",
            "100/100 [==============================] - 3s 28ms/step - loss: 0.1176 - acc: 0.9360 - val_loss: 0.7664 - val_acc: 0.8300\n",
            "Epoch 88/100\n",
            "100/100 [==============================] - 3s 28ms/step - loss: 0.1188 - acc: 0.9425 - val_loss: 0.8176 - val_acc: 0.8060\n",
            "Epoch 89/100\n",
            "100/100 [==============================] - 3s 26ms/step - loss: 0.1159 - acc: 0.9400 - val_loss: 0.8124 - val_acc: 0.8210\n",
            "Epoch 90/100\n",
            "100/100 [==============================] - 3s 26ms/step - loss: 0.1136 - acc: 0.9365 - val_loss: 0.8307 - val_acc: 0.8120\n",
            "Epoch 91/100\n",
            " 49/100 [=============>................] - ETA: 1s - loss: 0.1135 - acc: 0.9388"
          ],
          "name": "stdout"
        },
        {
          "output_type": "stream",
          "text": [
            "100/100 [==============================] - 3s 27ms/step - loss: 0.1170 - acc: 0.9330 - val_loss: 0.8559 - val_acc: 0.8110\n",
            "Epoch 92/100\n",
            "100/100 [==============================] - 3s 28ms/step - loss: 0.1142 - acc: 0.9335 - val_loss: 0.9591 - val_acc: 0.8190\n",
            "Epoch 93/100\n",
            "100/100 [==============================] - 3s 28ms/step - loss: 0.1103 - acc: 0.9405 - val_loss: 0.8606 - val_acc: 0.8270\n",
            "Epoch 94/100\n",
            "100/100 [==============================] - 3s 27ms/step - loss: 0.1223 - acc: 0.9380 - val_loss: 0.8386 - val_acc: 0.8290\n",
            "Epoch 95/100\n",
            "100/100 [==============================] - 3s 27ms/step - loss: 0.1082 - acc: 0.9360 - val_loss: 0.8417 - val_acc: 0.8280\n",
            "Epoch 96/100\n",
            "100/100 [==============================] - 3s 27ms/step - loss: 0.1104 - acc: 0.9395 - val_loss: 0.8854 - val_acc: 0.8230\n",
            "Epoch 97/100\n",
            " 48/100 [=============>................] - ETA: 1s - loss: 0.1093 - acc: 0.9406"
          ],
          "name": "stdout"
        },
        {
          "output_type": "stream",
          "text": [
            "100/100 [==============================] - 3s 27ms/step - loss: 0.1061 - acc: 0.9420 - val_loss: 0.8466 - val_acc: 0.8280\n",
            "Epoch 98/100\n",
            "100/100 [==============================] - 3s 26ms/step - loss: 0.1141 - acc: 0.9350 - val_loss: 0.8736 - val_acc: 0.8290\n",
            "Epoch 99/100\n",
            "100/100 [==============================] - 3s 27ms/step - loss: 0.1117 - acc: 0.9395 - val_loss: 0.9363 - val_acc: 0.8000\n",
            "Epoch 100/100\n",
            "100/100 [==============================] - 3s 27ms/step - loss: 0.1116 - acc: 0.9380 - val_loss: 0.9167 - val_acc: 0.8200\n"
          ],
          "name": "stdout"
        }
      ]
    },
    {
      "metadata": {
        "id": "ba21jxYBsvrR",
        "colab_type": "code",
        "colab": {}
      },
      "cell_type": "code",
      "source": [
        "model.save('grasps_petit_dataset_essai1.h5')"
      ],
      "execution_count": 0,
      "outputs": []
    },
    {
      "metadata": {
        "id": "U_0CpPVQs4G7",
        "colab_type": "code",
        "colab": {
          "base_uri": "https://localhost:8080/",
          "height": 707
        },
        "outputId": "cecfcf41-f2bb-4e31-8750-b3477ef4b13a"
      },
      "cell_type": "code",
      "source": [
        "import matplotlib.pyplot as plt\n",
        "\n",
        "acc=history.history['acc']\n",
        "val_acc = history.history['val_acc']\n",
        "loss=history.history['loss']\n",
        "val_loss=history.history['val_loss']\n",
        "\n",
        "epochs=range(1, len(acc)+1)\n",
        "\n",
        "plt.plot(epochs, acc, 'bo', label='Training acc')\n",
        "plt.plot(epochs, val_acc, 'b', label='Validation acc')\n",
        "plt.title('Training and validation accuracy')\n",
        "plt.legend()\n",
        "\n",
        "plt.figure()\n",
        "\n",
        "plt.plot(epochs, loss, 'bo', label='Training loss')\n",
        "plt.plot(epochs, val_loss, 'b', label='Validation loss')\n",
        "plt.title('Training and validation loss')\n",
        "plt.legend()\n",
        "\n",
        "plt.show()"
      ],
      "execution_count": 0,
      "outputs": [
        {
          "output_type": "display_data",
          "data": {
            "image/png": "[encoded data removed]",
            "text/plain": [
              "<matplotlib.figure.Figure at 0x7f73c728fc18>"
            ]
          },
          "metadata": {
            "tags": []
          }
        },
        {
          "output_type": "display_data",
          "data": {
            "image/png": "[encoded data removed]",
            "text/plain": [
              "<matplotlib.figure.Figure at 0x7f73a96f8d30>"
            ]
          },
          "metadata": {
            "tags": []
          }
        }
      ]
    },
    {
      "metadata": {
        "id": "HE-yyAyikVZ8",
        "colab_type": "text"
      },
      "cell_type": "markdown",
      "source": [
        "# Réseau CNN avec Data Augmentation"
      ]
    },
    {
      "metadata": {
        "id": "Lw0Ip85D9kS6",
        "colab_type": "text"
      },
      "cell_type": "markdown",
      "source": [
        "Pas forcément une très bonne idée finalement, on perd la géométrie des grasps dans certains cas. Peut_être est-il pertinent de réduir le data augmentation à quelques transformations basiques."
      ]
    },
    {
      "metadata": {
        "id": "pWCw1X0U1V14",
        "colab_type": "code",
        "colab": {}
      },
      "cell_type": "code",
      "source": [
        "datagen = ImageDataGenerator(\n",
        "      rotation_range=40,\n",
        "      width_shift_range=0.2,\n",
        "      height_shift_range=0.2,\n",
        "      shear_range=0.2,\n",
        "      zoom_range=0.2,\n",
        "      horizontal_flip=True,\n",
        "      fill_mode='nearest')"
      ],
      "execution_count": 0,
      "outputs": []
    },
    {
      "metadata": {
        "id": "uNAsTwLE1b9s",
        "colab_type": "code",
        "colab": {
          "base_uri": "https://localhost:8080/",
          "height": 1349
        },
        "outputId": "fcba4a62-6cf6-45ae-e757-ddab0d3fa67d"
      },
      "cell_type": "code",
      "source": [
        "# This is module with image preprocessing utilities\n",
        "from keras.preprocessing import image\n",
        "\n",
        "fnames = [os.path.join(train_pos_dir, fname) for fname in os.listdir(train_pos_dir)]\n",
        "\n",
        "# We pick one image to \"augment\"\n",
        "img_path = fnames[34]\n",
        "\n",
        "# Read the image and resize it\n",
        "img = image.load_img(img_path, target_size=(150, 150))\n",
        "\n",
        "# Convert it to a Numpy array with shape (150, 150, 3)\n",
        "x = image.img_to_array(img)\n",
        "\n",
        "# Reshape it to (1, 150, 150, 3)\n",
        "x = x.reshape((1,) + x.shape)\n",
        "\n",
        "# The .flow() command below generates batches of randomly transformed images.\n",
        "# It will loop indefinitely, so we need to `break` the loop at some point!\n",
        "i = 0\n",
        "for batch in datagen.flow(x, batch_size=1):\n",
        "    plt.figure(i)\n",
        "    imgplot = plt.imshow(image.array_to_img(batch[0]))\n",
        "    i += 1\n",
        "    if i % 4 == 0:\n",
        "        break\n",
        "\n",
        "plt.show()"
      ],
      "execution_count": 0,
      "outputs": [
        {
          "output_type": "display_data",
          "data": {
            "image/png": "[encoded data removed]",
            "text/plain": [
              "<matplotlib.figure.Figure at 0x7f93b5cd94e0>"
            ]
          },
          "metadata": {
            "tags": []
          }
        },
        {
          "output_type": "display_data",
          "data": {
            "image/png": "[encoded data removed]",
            "text/plain": [
              "<matplotlib.figure.Figure at 0x7f93b3238080>"
            ]
          },
          "metadata": {
            "tags": []
          }
        },
        {
          "output_type": "display_data",
          "data": {
            "image/png": "[encoded data removed]",
            "text/plain": [
              "<matplotlib.figure.Figure at 0x7f93b5c91e10>"
            ]
          },
          "metadata": {
            "tags": []
          }
        },
        {
          "output_type": "display_data",
          "data": {
            "image/png": "[encoded data removed]",
            "text/plain": [
              "<matplotlib.figure.Figure at 0x7f93b5c28828>"
            ]
          },
          "metadata": {
            "tags": []
          }
        }
      ]
    },
    {
      "metadata": {
        "id": "9704vl4q2E2b",
        "colab_type": "code",
        "colab": {}
      },
      "cell_type": "code",
      "source": [
        "model = models.Sequential()\n",
        "model.add(layers.Conv2D(32, (3, 3), activation='relu',\n",
        "                        input_shape=(150, 150, 3)))\n",
        "model.add(layers.MaxPooling2D((2, 2)))\n",
        "model.add(layers.Conv2D(64, (3, 3), activation='relu'))\n",
        "model.add(layers.MaxPooling2D((2, 2)))\n",
        "model.add(layers.Conv2D(128, (3, 3), activation='relu'))\n",
        "model.add(layers.MaxPooling2D((2, 2)))\n",
        "model.add(layers.Conv2D(128, (3, 3), activation='relu'))\n",
        "model.add(layers.MaxPooling2D((2, 2)))\n",
        "model.add(layers.Flatten())\n",
        "model.add(layers.Dropout(0.5))\n",
        "model.add(layers.Dense(512, activation='relu'))\n",
        "model.add(layers.Dense(1, activation='sigmoid'))\n",
        "\n",
        "model.compile(loss='binary_crossentropy',\n",
        "              optimizer=optimizers.RMSprop(lr=1e-4),\n",
        "              metrics=['acc'])"
      ],
      "execution_count": 0,
      "outputs": []
    },
    {
      "metadata": {
        "id": "dDbw7Smz2I43",
        "colab_type": "code",
        "colab": {
          "base_uri": "https://localhost:8080/",
          "height": 602
        },
        "outputId": "fc6a6078-f268-49b0-c8bf-958f2445c2d0"
      },
      "cell_type": "code",
      "source": [
        "model.summary()"
      ],
      "execution_count": 0,
      "outputs": [
        {
          "output_type": "stream",
          "text": [
            "_________________________________________________________________\n",
            "Layer (type)                 Output Shape              Param #   \n",
            "=================================================================\n",
            "conv2d_32 (Conv2D)           (None, 148, 148, 32)      896       \n",
            "_________________________________________________________________\n",
            "max_pooling2d_32 (MaxPooling (None, 74, 74, 32)        0         \n",
            "_________________________________________________________________\n",
            "conv2d_33 (Conv2D)           (None, 72, 72, 64)        18496     \n",
            "_________________________________________________________________\n",
            "max_pooling2d_33 (MaxPooling (None, 36, 36, 64)        0         \n",
            "_________________________________________________________________\n",
            "conv2d_34 (Conv2D)           (None, 34, 34, 128)       73856     \n",
            "_________________________________________________________________\n",
            "max_pooling2d_34 (MaxPooling (None, 17, 17, 128)       0         \n",
            "_________________________________________________________________\n",
            "conv2d_35 (Conv2D)           (None, 15, 15, 128)       147584    \n",
            "_________________________________________________________________\n",
            "max_pooling2d_35 (MaxPooling (None, 7, 7, 128)         0         \n",
            "_________________________________________________________________\n",
            "flatten_9 (Flatten)          (None, 6272)              0         \n",
            "_________________________________________________________________\n",
            "dropout_6 (Dropout)          (None, 6272)              0         \n",
            "_________________________________________________________________\n",
            "dense_21 (Dense)             (None, 512)               3211776   \n",
            "_________________________________________________________________\n",
            "dense_22 (Dense)             (None, 1)                 513       \n",
            "=================================================================\n",
            "Total params: 3,453,121\n",
            "Trainable params: 3,453,121\n",
            "Non-trainable params: 0\n",
            "_________________________________________________________________\n"
          ],
          "name": "stdout"
        }
      ]
    },
    {
      "metadata": {
        "id": "6VHzfCHI2MsM",
        "colab_type": "code",
        "colab": {}
      },
      "cell_type": "code",
      "source": [
        "train_datagen = ImageDataGenerator(\n",
        "    rescale=1./255,\n",
        "    rotation_range=40,\n",
        "    width_shift_range=0.2,\n",
        "    height_shift_range=0.2,\n",
        "    shear_range=0.2,\n",
        "    zoom_range=0.2,\n",
        "    horizontal_flip=True,)\n",
        "\n",
        "test_datagen = ImageDataGenerator(rescale=1./255)"
      ],
      "execution_count": 0,
      "outputs": []
    },
    {
      "metadata": {
        "id": "53pXWZIN2SRG",
        "colab_type": "code",
        "colab": {
          "base_uri": "https://localhost:8080/",
          "height": 55
        },
        "outputId": "5135e081-482c-4e73-f8c7-d67a85f4f7f4"
      },
      "cell_type": "code",
      "source": [
        "train_generator = train_datagen.flow_from_directory(\n",
        "        # This is the target directory\n",
        "        train_dir,\n",
        "        # All images will be resized to 150x150\n",
        "        target_size=(150, 150),\n",
        "        batch_size=32,\n",
        "        # Since we use binary_crossentropy loss, we need binary labels\n",
        "        class_mode='binary')\n",
        "\n",
        "train_generator = train_datagen.flow_from_directory(\n",
        "        # This is the target directory\n",
        "        train_dir,\n",
        "        # All images will be resized to 150x150\n",
        "        target_size=(150, 150),\n",
        "        batch_size=32,\n",
        "        # Since we use binary_crossentropy loss, we need binary labels\n",
        "        class_mode='binary')"
      ],
      "execution_count": 0,
      "outputs": [
        {
          "output_type": "stream",
          "text": [
            "Found 2000 images belonging to 2 classes.\n",
            "Found 2000 images belonging to 2 classes.\n"
          ],
          "name": "stdout"
        }
      ]
    },
    {
      "metadata": {
        "id": "24gm37NK20Bg",
        "colab_type": "code",
        "colab": {
          "base_uri": "https://localhost:8080/",
          "height": 1460
        },
        "outputId": "393cbf33-cf4e-4d0c-efbe-2ab8f49acc84"
      },
      "cell_type": "code",
      "source": [
        "history = model.fit_generator(\n",
        "      train_generator,\n",
        "      steps_per_epoch=100,\n",
        "      epochs=100,\n",
        "      validation_data=validation_generator,\n",
        "      validation_steps=50)"
      ],
      "execution_count": 0,
      "outputs": [
        {
          "output_type": "stream",
          "text": [
            "Epoch 1/100\n",
            " 99/100 [============================>.] - ETA: 0s - loss: 0.6817 - acc: 0.5492"
          ],
          "name": "stdout"
        },
        {
          "output_type": "error",
          "ename": "ValueError",
          "evalue": "ignored",
          "traceback": [
            "\u001b[0;31m---------------------------------------------------------------------------\u001b[0m",
            "\u001b[0;31mValueError\u001b[0m                                Traceback (most recent call last)",
            "\u001b[0;32m<ipython-input-79-b40ced08f25b>\u001b[0m in \u001b[0;36m<module>\u001b[0;34m()\u001b[0m\n\u001b[1;32m      4\u001b[0m       \u001b[0mepochs\u001b[0m\u001b[0;34m=\u001b[0m\u001b[0;36m100\u001b[0m\u001b[0;34m,\u001b[0m\u001b[0;34m\u001b[0m\u001b[0m\n\u001b[1;32m      5\u001b[0m       \u001b[0mvalidation_data\u001b[0m\u001b[0;34m=\u001b[0m\u001b[0mvalidation_generator\u001b[0m\u001b[0;34m,\u001b[0m\u001b[0;34m\u001b[0m\u001b[0m\n\u001b[0;32m----> 6\u001b[0;31m       validation_steps=50)\n\u001b[0m",
            "\u001b[0;32m/usr/local/lib/python3.6/dist-packages/keras/legacy/interfaces.py\u001b[0m in \u001b[0;36mwrapper\u001b[0;34m(*args, **kwargs)\u001b[0m\n\u001b[1;32m     89\u001b[0m                 warnings.warn('Update your `' + object_name +\n\u001b[1;32m     90\u001b[0m                               '` call to the Keras 2 API: ' + signature, stacklevel=2)\n\u001b[0;32m---> 91\u001b[0;31m             \u001b[0;32mreturn\u001b[0m \u001b[0mfunc\u001b[0m\u001b[0;34m(\u001b[0m\u001b[0;34m*\u001b[0m\u001b[0margs\u001b[0m\u001b[0;34m,\u001b[0m \u001b[0;34m**\u001b[0m\u001b[0mkwargs\u001b[0m\u001b[0;34m)\u001b[0m\u001b[0;34m\u001b[0m\u001b[0m\n\u001b[0m\u001b[1;32m     92\u001b[0m         \u001b[0mwrapper\u001b[0m\u001b[0;34m.\u001b[0m\u001b[0m_original_function\u001b[0m \u001b[0;34m=\u001b[0m \u001b[0mfunc\u001b[0m\u001b[0;34m\u001b[0m\u001b[0m\n\u001b[1;32m     93\u001b[0m         \u001b[0;32mreturn\u001b[0m \u001b[0mwrapper\u001b[0m\u001b[0;34m\u001b[0m\u001b[0m\n",
            "\u001b[0;32m/usr/local/lib/python3.6/dist-packages/keras/models.py\u001b[0m in \u001b[0;36mfit_generator\u001b[0;34m(self, generator, steps_per_epoch, epochs, verbose, callbacks, validation_data, validation_steps, class_weight, max_queue_size, workers, use_multiprocessing, shuffle, initial_epoch)\u001b[0m\n\u001b[1;32m   1274\u001b[0m                                         \u001b[0muse_multiprocessing\u001b[0m\u001b[0;34m=\u001b[0m\u001b[0muse_multiprocessing\u001b[0m\u001b[0;34m,\u001b[0m\u001b[0;34m\u001b[0m\u001b[0m\n\u001b[1;32m   1275\u001b[0m                                         \u001b[0mshuffle\u001b[0m\u001b[0;34m=\u001b[0m\u001b[0mshuffle\u001b[0m\u001b[0;34m,\u001b[0m\u001b[0;34m\u001b[0m\u001b[0m\n\u001b[0;32m-> 1276\u001b[0;31m                                         initial_epoch=initial_epoch)\n\u001b[0m\u001b[1;32m   1277\u001b[0m \u001b[0;34m\u001b[0m\u001b[0m\n\u001b[1;32m   1278\u001b[0m     \u001b[0;34m@\u001b[0m\u001b[0minterfaces\u001b[0m\u001b[0;34m.\u001b[0m\u001b[0mlegacy_generator_methods_support\u001b[0m\u001b[0;34m\u001b[0m\u001b[0m\n",
            "\u001b[0;32m/usr/local/lib/python3.6/dist-packages/keras/legacy/interfaces.py\u001b[0m in \u001b[0;36mwrapper\u001b[0;34m(*args, **kwargs)\u001b[0m\n\u001b[1;32m     89\u001b[0m                 warnings.warn('Update your `' + object_name +\n\u001b[1;32m     90\u001b[0m                               '` call to the Keras 2 API: ' + signature, stacklevel=2)\n\u001b[0;32m---> 91\u001b[0;31m             \u001b[0;32mreturn\u001b[0m \u001b[0mfunc\u001b[0m\u001b[0;34m(\u001b[0m\u001b[0;34m*\u001b[0m\u001b[0margs\u001b[0m\u001b[0;34m,\u001b[0m \u001b[0;34m**\u001b[0m\u001b[0mkwargs\u001b[0m\u001b[0;34m)\u001b[0m\u001b[0;34m\u001b[0m\u001b[0m\n\u001b[0m\u001b[1;32m     92\u001b[0m         \u001b[0mwrapper\u001b[0m\u001b[0;34m.\u001b[0m\u001b[0m_original_function\u001b[0m \u001b[0;34m=\u001b[0m \u001b[0mfunc\u001b[0m\u001b[0;34m\u001b[0m\u001b[0m\n\u001b[1;32m     93\u001b[0m         \u001b[0;32mreturn\u001b[0m \u001b[0mwrapper\u001b[0m\u001b[0;34m\u001b[0m\u001b[0m\n",
            "\u001b[0;32m/usr/local/lib/python3.6/dist-packages/keras/engine/training.py\u001b[0m in \u001b[0;36mfit_generator\u001b[0;34m(self, generator, steps_per_epoch, epochs, verbose, callbacks, validation_data, validation_steps, class_weight, max_queue_size, workers, use_multiprocessing, shuffle, initial_epoch)\u001b[0m\n\u001b[1;32m   2242\u001b[0m                                 \u001b[0mworkers\u001b[0m\u001b[0;34m=\u001b[0m\u001b[0mworkers\u001b[0m\u001b[0;34m,\u001b[0m\u001b[0;34m\u001b[0m\u001b[0m\n\u001b[1;32m   2243\u001b[0m                                 \u001b[0muse_multiprocessing\u001b[0m\u001b[0;34m=\u001b[0m\u001b[0muse_multiprocessing\u001b[0m\u001b[0;34m,\u001b[0m\u001b[0;34m\u001b[0m\u001b[0m\n\u001b[0;32m-> 2244\u001b[0;31m                                 max_queue_size=max_queue_size)\n\u001b[0m\u001b[1;32m   2245\u001b[0m                         \u001b[0;32melse\u001b[0m\u001b[0;34m:\u001b[0m\u001b[0;34m\u001b[0m\u001b[0m\n\u001b[1;32m   2246\u001b[0m                             \u001b[0;31m# No need for try/except because\u001b[0m\u001b[0;34m\u001b[0m\u001b[0;34m\u001b[0m\u001b[0m\n",
            "\u001b[0;32m/usr/local/lib/python3.6/dist-packages/keras/legacy/interfaces.py\u001b[0m in \u001b[0;36mwrapper\u001b[0;34m(*args, **kwargs)\u001b[0m\n\u001b[1;32m     89\u001b[0m                 warnings.warn('Update your `' + object_name +\n\u001b[1;32m     90\u001b[0m                               '` call to the Keras 2 API: ' + signature, stacklevel=2)\n\u001b[0;32m---> 91\u001b[0;31m             \u001b[0;32mreturn\u001b[0m \u001b[0mfunc\u001b[0m\u001b[0;34m(\u001b[0m\u001b[0;34m*\u001b[0m\u001b[0margs\u001b[0m\u001b[0;34m,\u001b[0m \u001b[0;34m**\u001b[0m\u001b[0mkwargs\u001b[0m\u001b[0;34m)\u001b[0m\u001b[0;34m\u001b[0m\u001b[0m\n\u001b[0m\u001b[1;32m     92\u001b[0m         \u001b[0mwrapper\u001b[0m\u001b[0;34m.\u001b[0m\u001b[0m_original_function\u001b[0m \u001b[0;34m=\u001b[0m \u001b[0mfunc\u001b[0m\u001b[0;34m\u001b[0m\u001b[0m\n\u001b[1;32m     93\u001b[0m         \u001b[0;32mreturn\u001b[0m \u001b[0mwrapper\u001b[0m\u001b[0;34m\u001b[0m\u001b[0m\n",
            "\u001b[0;32m/usr/local/lib/python3.6/dist-packages/keras/engine/training.py\u001b[0m in \u001b[0;36mevaluate_generator\u001b[0;34m(self, generator, steps, max_queue_size, workers, use_multiprocessing)\u001b[0m\n\u001b[1;32m   2376\u001b[0m                                      \u001b[0;34m'or (x, y). Found: '\u001b[0m \u001b[0;34m+\u001b[0m\u001b[0;34m\u001b[0m\u001b[0m\n\u001b[1;32m   2377\u001b[0m                                      str(generator_output))\n\u001b[0;32m-> 2378\u001b[0;31m                 \u001b[0mouts\u001b[0m \u001b[0;34m=\u001b[0m \u001b[0mself\u001b[0m\u001b[0;34m.\u001b[0m\u001b[0mtest_on_batch\u001b[0m\u001b[0;34m(\u001b[0m\u001b[0mx\u001b[0m\u001b[0;34m,\u001b[0m \u001b[0my\u001b[0m\u001b[0;34m,\u001b[0m \u001b[0msample_weight\u001b[0m\u001b[0;34m=\u001b[0m\u001b[0msample_weight\u001b[0m\u001b[0;34m)\u001b[0m\u001b[0;34m\u001b[0m\u001b[0m\n\u001b[0m\u001b[1;32m   2379\u001b[0m \u001b[0;34m\u001b[0m\u001b[0m\n\u001b[1;32m   2380\u001b[0m                 \u001b[0;32mif\u001b[0m \u001b[0misinstance\u001b[0m\u001b[0;34m(\u001b[0m\u001b[0mx\u001b[0m\u001b[0;34m,\u001b[0m \u001b[0mlist\u001b[0m\u001b[0;34m)\u001b[0m\u001b[0;34m:\u001b[0m\u001b[0;34m\u001b[0m\u001b[0m\n",
            "\u001b[0;32m/usr/local/lib/python3.6/dist-packages/keras/engine/training.py\u001b[0m in \u001b[0;36mtest_on_batch\u001b[0;34m(self, x, y, sample_weight)\u001b[0m\n\u001b[1;32m   1916\u001b[0m         x, y, sample_weights = self._standardize_user_data(\n\u001b[1;32m   1917\u001b[0m             \u001b[0mx\u001b[0m\u001b[0;34m,\u001b[0m \u001b[0my\u001b[0m\u001b[0;34m,\u001b[0m\u001b[0;34m\u001b[0m\u001b[0m\n\u001b[0;32m-> 1918\u001b[0;31m             sample_weight=sample_weight)\n\u001b[0m\u001b[1;32m   1919\u001b[0m         \u001b[0;32mif\u001b[0m \u001b[0mself\u001b[0m\u001b[0;34m.\u001b[0m\u001b[0muses_learning_phase\u001b[0m \u001b[0;32mand\u001b[0m \u001b[0;32mnot\u001b[0m \u001b[0misinstance\u001b[0m\u001b[0;34m(\u001b[0m\u001b[0mK\u001b[0m\u001b[0;34m.\u001b[0m\u001b[0mlearning_phase\u001b[0m\u001b[0;34m(\u001b[0m\u001b[0;34m)\u001b[0m\u001b[0;34m,\u001b[0m \u001b[0mint\u001b[0m\u001b[0;34m)\u001b[0m\u001b[0;34m:\u001b[0m\u001b[0;34m\u001b[0m\u001b[0m\n\u001b[1;32m   1920\u001b[0m             \u001b[0mins\u001b[0m \u001b[0;34m=\u001b[0m \u001b[0mx\u001b[0m \u001b[0;34m+\u001b[0m \u001b[0my\u001b[0m \u001b[0;34m+\u001b[0m \u001b[0msample_weights\u001b[0m \u001b[0;34m+\u001b[0m \u001b[0;34m[\u001b[0m\u001b[0;36m0.\u001b[0m\u001b[0;34m]\u001b[0m\u001b[0;34m\u001b[0m\u001b[0m\n",
            "\u001b[0;32m/usr/local/lib/python3.6/dist-packages/keras/engine/training.py\u001b[0m in \u001b[0;36m_standardize_user_data\u001b[0;34m(self, x, y, sample_weight, class_weight, check_array_lengths, batch_size)\u001b[0m\n\u001b[1;32m   1474\u001b[0m                                     \u001b[0mself\u001b[0m\u001b[0;34m.\u001b[0m\u001b[0m_feed_input_shapes\u001b[0m\u001b[0;34m,\u001b[0m\u001b[0;34m\u001b[0m\u001b[0m\n\u001b[1;32m   1475\u001b[0m                                     \u001b[0mcheck_batch_axis\u001b[0m\u001b[0;34m=\u001b[0m\u001b[0;32mFalse\u001b[0m\u001b[0;34m,\u001b[0m\u001b[0;34m\u001b[0m\u001b[0m\n\u001b[0;32m-> 1476\u001b[0;31m                                     exception_prefix='input')\n\u001b[0m\u001b[1;32m   1477\u001b[0m         y = _standardize_input_data(y, self._feed_output_names,\n\u001b[1;32m   1478\u001b[0m                                     \u001b[0moutput_shapes\u001b[0m\u001b[0;34m,\u001b[0m\u001b[0;34m\u001b[0m\u001b[0m\n",
            "\u001b[0;32m/usr/local/lib/python3.6/dist-packages/keras/engine/training.py\u001b[0m in \u001b[0;36m_standardize_input_data\u001b[0;34m(data, names, shapes, check_batch_axis, exception_prefix)\u001b[0m\n\u001b[1;32m    121\u001b[0m                             \u001b[0;34m': expected '\u001b[0m \u001b[0;34m+\u001b[0m \u001b[0mnames\u001b[0m\u001b[0;34m[\u001b[0m\u001b[0mi\u001b[0m\u001b[0;34m]\u001b[0m \u001b[0;34m+\u001b[0m \u001b[0;34m' to have shape '\u001b[0m \u001b[0;34m+\u001b[0m\u001b[0;34m\u001b[0m\u001b[0m\n\u001b[1;32m    122\u001b[0m                             \u001b[0mstr\u001b[0m\u001b[0;34m(\u001b[0m\u001b[0mshape\u001b[0m\u001b[0;34m)\u001b[0m \u001b[0;34m+\u001b[0m \u001b[0;34m' but got array with shape '\u001b[0m \u001b[0;34m+\u001b[0m\u001b[0;34m\u001b[0m\u001b[0m\n\u001b[0;32m--> 123\u001b[0;31m                             str(data_shape))\n\u001b[0m\u001b[1;32m    124\u001b[0m     \u001b[0;32mreturn\u001b[0m \u001b[0mdata\u001b[0m\u001b[0;34m\u001b[0m\u001b[0m\n\u001b[1;32m    125\u001b[0m \u001b[0;34m\u001b[0m\u001b[0m\n",
            "\u001b[0;31mValueError\u001b[0m: Error when checking input: expected conv2d_32_input to have shape (150, 150, 3) but got array with shape (50, 50, 3)"
          ]
        }
      ]
    },
    {
      "metadata": {
        "id": "3YM_W7qC59J-",
        "colab_type": "code",
        "colab": {}
      },
      "cell_type": "code",
      "source": [
        "model.save('grasp_small_sataset_augmented.h5')"
      ],
      "execution_count": 0,
      "outputs": []
    },
    {
      "metadata": {
        "id": "CEu7hsSv6F1L",
        "colab_type": "code",
        "colab": {
          "base_uri": "https://localhost:8080/",
          "height": 707
        },
        "outputId": "9cb5abac-1bd9-4c3c-c6bb-61a66eeeb50d"
      },
      "cell_type": "code",
      "source": [
        "acc = history.history['acc']\n",
        "val_acc = history.history['val_acc']\n",
        "loss = history.history['loss']\n",
        "val_loss = history.history['val_loss']\n",
        "\n",
        "epochs = range(len(acc))\n",
        "\n",
        "plt.plot(epochs, acc, 'bo', label='Training acc')\n",
        "plt.plot(epochs, val_acc, 'b', label='Validation acc')\n",
        "plt.title('Training and validation accuracy')\n",
        "plt.legend()\n",
        "\n",
        "plt.figure()\n",
        "\n",
        "plt.plot(epochs, loss, 'bo', label='Training loss')\n",
        "plt.plot(epochs, val_loss, 'b', label='Validation loss')\n",
        "plt.title('Training and validation loss')\n",
        "plt.legend()\n",
        "\n",
        "plt.show()"
      ],
      "execution_count": 0,
      "outputs": [
        {
          "output_type": "display_data",
          "data": {
            "image/png": "[encoded data removed]",
            "text/plain": [
              "<matplotlib.figure.Figure at 0x7f93bfbac2e8>"
            ]
          },
          "metadata": {
            "tags": []
          }
        },
        {
          "output_type": "display_data",
          "data": {
            "image/png": "[encoded data removed]",
            "text/plain": [
              "<matplotlib.figure.Figure at 0x7f93c030b080>"
            ]
          },
          "metadata": {
            "tags": []
          }
        }
      ]
    },
    {
      "metadata": {
        "id": "AIhoYkDT62_T",
        "colab_type": "text"
      },
      "cell_type": "markdown",
      "source": [
        "Ca semble plutot moins bien..."
      ]
    },
    {
      "metadata": {
        "id": "P1uOXD_Wx8vY",
        "colab_type": "text"
      },
      "cell_type": "markdown",
      "source": [
        "# Réseau Pré-entrainé avec VGG 16 / ImageNet"
      ]
    },
    {
      "metadata": {
        "id": "rEdyu4MW8Cvy",
        "colab_type": "code",
        "colab": {}
      },
      "cell_type": "code",
      "source": [
        "from keras.applications import VGG16\n",
        "\n",
        "conv_base = VGG16(weights='imagenet',\n",
        "                 include_top=False,\n",
        "                 input_shape=(50,50,3))"
      ],
      "execution_count": 0,
      "outputs": []
    },
    {
      "metadata": {
        "id": "azMEMbVjyFlk",
        "colab_type": "text"
      },
      "cell_type": "markdown",
      "source": [
        "## Features extraits puis réinjectés"
      ]
    },
    {
      "metadata": {
        "id": "f911XImf8oaw",
        "colab_type": "code",
        "colab": {
          "base_uri": "https://localhost:8080/",
          "height": 866
        },
        "outputId": "1b053d66-23d3-4c42-ff5f-61c6248c68a2"
      },
      "cell_type": "code",
      "source": [
        "conv_base.summary()"
      ],
      "execution_count": 87,
      "outputs": [
        {
          "output_type": "stream",
          "text": [
            "_________________________________________________________________\n",
            "Layer (type)                 Output Shape              Param #   \n",
            "=================================================================\n",
            "input_2 (InputLayer)         (None, 50, 50, 3)         0         \n",
            "_________________________________________________________________\n",
            "block1_conv1 (Conv2D)        (None, 50, 50, 64)        1792      \n",
            "_________________________________________________________________\n",
            "block1_conv2 (Conv2D)        (None, 50, 50, 64)        36928     \n",
            "_________________________________________________________________\n",
            "block1_pool (MaxPooling2D)   (None, 25, 25, 64)        0         \n",
            "_________________________________________________________________\n",
            "block2_conv1 (Conv2D)        (None, 25, 25, 128)       73856     \n",
            "_________________________________________________________________\n",
            "block2_conv2 (Conv2D)        (None, 25, 25, 128)       147584    \n",
            "_________________________________________________________________\n",
            "block2_pool (MaxPooling2D)   (None, 12, 12, 128)       0         \n",
            "_________________________________________________________________\n",
            "block3_conv1 (Conv2D)        (None, 12, 12, 256)       295168    \n",
            "_________________________________________________________________\n",
            "block3_conv2 (Conv2D)        (None, 12, 12, 256)       590080    \n",
            "_________________________________________________________________\n",
            "block3_conv3 (Conv2D)        (None, 12, 12, 256)       590080    \n",
            "_________________________________________________________________\n",
            "block3_pool (MaxPooling2D)   (None, 6, 6, 256)         0         \n",
            "_________________________________________________________________\n",
            "block4_conv1 (Conv2D)        (None, 6, 6, 512)         1180160   \n",
            "_________________________________________________________________\n",
            "block4_conv2 (Conv2D)        (None, 6, 6, 512)         2359808   \n",
            "_________________________________________________________________\n",
            "block4_conv3 (Conv2D)        (None, 6, 6, 512)         2359808   \n",
            "_________________________________________________________________\n",
            "block4_pool (MaxPooling2D)   (None, 3, 3, 512)         0         \n",
            "_________________________________________________________________\n",
            "block5_conv1 (Conv2D)        (None, 3, 3, 512)         2359808   \n",
            "_________________________________________________________________\n",
            "block5_conv2 (Conv2D)        (None, 3, 3, 512)         2359808   \n",
            "_________________________________________________________________\n",
            "block5_conv3 (Conv2D)        (None, 3, 3, 512)         2359808   \n",
            "_________________________________________________________________\n",
            "block5_pool (MaxPooling2D)   (None, 1, 1, 512)         0         \n",
            "=================================================================\n",
            "Total params: 14,714,688\n",
            "Trainable params: 14,714,688\n",
            "Non-trainable params: 0\n",
            "_________________________________________________________________\n"
          ],
          "name": "stdout"
        }
      ]
    },
    {
      "metadata": {
        "id": "r9zH58Ov9eYi",
        "colab_type": "code",
        "colab": {
          "base_uri": "https://localhost:8080/",
          "height": 10
        },
        "outputId": "23c14ee0-13a0-429a-e5ae-635394da6bb2"
      },
      "cell_type": "code",
      "source": [
        "datagen = ImageDataGenerator(rescale=1./255)\n",
        "batch_size = 20\n",
        "\n",
        "def extract_features(directory, sample_count):\n",
        "  features = np.zeros(shape=(sample_count, 4, 4, 512))\n",
        "  labels = np.zeros(shape=(sample_count))\n",
        "  generator = datagen.flow_from_directory(directory,\n",
        "                                          target_size=(150, 150),\n",
        "                                          batch_size=batch_size,\n",
        "                                          class_mode='binary')\n",
        "  i = 0\n",
        "  for inputs_batch, labels_batch in generator:\n",
        "    features_batch = conv_base.predict(inputs_batch)\n",
        "    features[i * batch_size : (i + 1) * batch_size] = features_batch\n",
        "    labels[i * batch_size : (i + 1) * batch_size] = labels_batch\n",
        "    i += 1\n",
        "    if i * batch_size >= sample_count:\n",
        "      break\n",
        "  return features, labels\n",
        "\n",
        "train_features, train_labels = extract_features(train_dir, 2000)\n",
        "validation_features, validation_labels = extract_features(validation_dir, 1000)\n",
        "test_features, test_labels = extract_features(test_dir, 1000)"
      ],
      "execution_count": 0,
      "outputs": [
        {
          "output_type": "stream",
          "text": [
            "Found 2000 images belonging to 2 classes.\n",
            "Found 1000 images belonging to 2 classes.\n",
            "Found 1000 images belonging to 2 classes.\n"
          ],
          "name": "stdout"
        }
      ]
    },
    {
      "metadata": {
        "id": "KF1-vnVF-rbb",
        "colab_type": "code",
        "colab": {}
      },
      "cell_type": "code",
      "source": [
        "train_features = np.reshape(train_features, (2000, 4 * 4 * 512))\n",
        "validation_features = np.reshape(validation_features, (1000, 4 * 4 * 512))\n",
        "test_features = np.reshape(test_features, (1000, 4 * 4 * 512))"
      ],
      "execution_count": 0,
      "outputs": []
    },
    {
      "metadata": {
        "id": "teXwOrP_-K35",
        "colab_type": "code",
        "colab": {
          "base_uri": "https://localhost:8080/",
          "height": 10
        },
        "outputId": "a33381d2-5785-4a3e-ecdc-d3c960c8fc51"
      },
      "cell_type": "code",
      "source": [
        "model = models.Sequential()\n",
        "model.add(layers.Dense(256, activation='relu', input_dim=4 * 4 * 512))\n",
        "model.add(layers.Dropout(0.5))\n",
        "model.add(layers.Dense(1, activation='sigmoid'))\n",
        "model.compile(optimizer=optimizers.RMSprop(lr=2e-5),\n",
        "              loss='binary_crossentropy',\n",
        "              metrics=['acc'])\n",
        "history = model.fit(train_features, train_labels,\n",
        "                    epochs=30,\n",
        "                    batch_size=20,\n",
        "                    validation_data=(validation_features, validation_labels))"
      ],
      "execution_count": 0,
      "outputs": [
        {
          "output_type": "stream",
          "text": [
            "Train on 2000 samples, validate on 1000 samples\n",
            "Epoch 1/30\n",
            "2000/2000 [==============================] - 1s 676us/step - loss: 0.5887 - acc: 0.6770 - val_loss: 0.4609 - val_acc: 0.8180\n",
            "Epoch 2/30\n",
            "2000/2000 [==============================] - 1s 510us/step - loss: 0.4258 - acc: 0.8025 - val_loss: 0.4014 - val_acc: 0.8030\n",
            "Epoch 3/30\n",
            "2000/2000 [==============================] - 1s 548us/step - loss: 0.3843 - acc: 0.8195 - val_loss: 0.3752 - val_acc: 0.8150\n",
            "Epoch 4/30\n",
            "2000/2000 [==============================] - 1s 547us/step - loss: 0.3484 - acc: 0.8410 - val_loss: 0.3643 - val_acc: 0.8140\n",
            "Epoch 5/30\n",
            "2000/2000 [==============================] - 1s 559us/step - loss: 0.3345 - acc: 0.8375 - val_loss: 0.3584 - val_acc: 0.8170\n",
            "Epoch 6/30\n",
            "2000/2000 [==============================] - 1s 548us/step - loss: 0.3282 - acc: 0.8480 - val_loss: 0.3526 - val_acc: 0.8280\n",
            "Epoch 7/30\n",
            "2000/2000 [==============================] - 1s 548us/step - loss: 0.3139 - acc: 0.8550 - val_loss: 0.3501 - val_acc: 0.8210\n",
            "Epoch 8/30\n",
            "2000/2000 [==============================] - 1s 546us/step - loss: 0.3048 - acc: 0.8660 - val_loss: 0.3500 - val_acc: 0.8410\n",
            "Epoch 9/30\n",
            " 820/2000 [===========>..................] - ETA: 0s - loss: 0.2836 - acc: 0.8683"
          ],
          "name": "stdout"
        },
        {
          "output_type": "stream",
          "text": [
            "2000/2000 [==============================] - 1s 549us/step - loss: 0.3003 - acc: 0.8565 - val_loss: 0.3510 - val_acc: 0.8390\n",
            "Epoch 10/30\n",
            "2000/2000 [==============================] - 1s 555us/step - loss: 0.2935 - acc: 0.8725 - val_loss: 0.3445 - val_acc: 0.8320\n",
            "Epoch 11/30\n",
            "2000/2000 [==============================] - 1s 549us/step - loss: 0.2890 - acc: 0.8720 - val_loss: 0.3473 - val_acc: 0.8210\n",
            "Epoch 12/30\n",
            "2000/2000 [==============================] - 1s 542us/step - loss: 0.2819 - acc: 0.8715 - val_loss: 0.3427 - val_acc: 0.8450\n",
            "Epoch 13/30\n",
            "2000/2000 [==============================] - 1s 548us/step - loss: 0.2791 - acc: 0.8700 - val_loss: 0.3432 - val_acc: 0.8240\n",
            "Epoch 14/30\n",
            "2000/2000 [==============================] - 1s 557us/step - loss: 0.2731 - acc: 0.8765 - val_loss: 0.3397 - val_acc: 0.8360\n",
            "Epoch 15/30\n",
            "2000/2000 [==============================] - 1s 562us/step - loss: 0.2731 - acc: 0.8720 - val_loss: 0.3438 - val_acc: 0.8250\n",
            "Epoch 16/30\n",
            "2000/2000 [==============================] - 1s 569us/step - loss: 0.2724 - acc: 0.8790 - val_loss: 0.3394 - val_acc: 0.8370\n",
            "Epoch 17/30\n",
            "1580/2000 [======================>.......] - ETA: 0s - loss: 0.2698 - acc: 0.8861"
          ],
          "name": "stdout"
        },
        {
          "output_type": "stream",
          "text": [
            "2000/2000 [==============================] - 1s 546us/step - loss: 0.2662 - acc: 0.8860 - val_loss: 0.3432 - val_acc: 0.8270\n",
            "Epoch 18/30\n",
            "2000/2000 [==============================] - 1s 542us/step - loss: 0.2661 - acc: 0.8815 - val_loss: 0.3390 - val_acc: 0.8430\n",
            "Epoch 19/30\n",
            "2000/2000 [==============================] - 1s 549us/step - loss: 0.2617 - acc: 0.8855 - val_loss: 0.3376 - val_acc: 0.8490\n",
            "Epoch 20/30\n",
            "2000/2000 [==============================] - 1s 551us/step - loss: 0.2570 - acc: 0.8910 - val_loss: 0.3388 - val_acc: 0.8480\n",
            "Epoch 21/30\n",
            "2000/2000 [==============================] - 1s 542us/step - loss: 0.2565 - acc: 0.8825 - val_loss: 0.3379 - val_acc: 0.8470\n",
            "Epoch 22/30\n",
            "2000/2000 [==============================] - 1s 533us/step - loss: 0.2584 - acc: 0.8820 - val_loss: 0.3357 - val_acc: 0.8480\n",
            "Epoch 23/30\n",
            "2000/2000 [==============================] - 1s 541us/step - loss: 0.2493 - acc: 0.8835 - val_loss: 0.3405 - val_acc: 0.8310\n",
            "Epoch 24/30\n",
            "2000/2000 [==============================] - 1s 551us/step - loss: 0.2490 - acc: 0.8920 - val_loss: 0.3406 - val_acc: 0.8480\n",
            "Epoch 25/30\n",
            "1640/2000 [=======================>......] - ETA: 0s - loss: 0.2525 - acc: 0.8787"
          ],
          "name": "stdout"
        },
        {
          "output_type": "error",
          "ename": "KeyboardInterrupt",
          "evalue": "ignored",
          "traceback": [
            "\u001b[0;31m---------------------------------------------------------------------------\u001b[0m",
            "\u001b[0;31mKeyboardInterrupt\u001b[0m                         Traceback (most recent call last)",
            "\u001b[0;32m<ipython-input-21-f0a68e3d4b9c>\u001b[0m in \u001b[0;36m<module>\u001b[0;34m()\u001b[0m\n\u001b[1;32m      9\u001b[0m                     \u001b[0mepochs\u001b[0m\u001b[0;34m=\u001b[0m\u001b[0;36m30\u001b[0m\u001b[0;34m,\u001b[0m\u001b[0;34m\u001b[0m\u001b[0m\n\u001b[1;32m     10\u001b[0m                     \u001b[0mbatch_size\u001b[0m\u001b[0;34m=\u001b[0m\u001b[0;36m20\u001b[0m\u001b[0;34m,\u001b[0m\u001b[0;34m\u001b[0m\u001b[0m\n\u001b[0;32m---> 11\u001b[0;31m                     validation_data=(validation_features, validation_labels))\n\u001b[0m",
            "\u001b[0;32m/usr/local/lib/python3.6/dist-packages/keras/models.py\u001b[0m in \u001b[0;36mfit\u001b[0;34m(self, x, y, batch_size, epochs, verbose, callbacks, validation_split, validation_data, shuffle, class_weight, sample_weight, initial_epoch, steps_per_epoch, validation_steps, **kwargs)\u001b[0m\n\u001b[1;32m    961\u001b[0m                               \u001b[0minitial_epoch\u001b[0m\u001b[0;34m=\u001b[0m\u001b[0minitial_epoch\u001b[0m\u001b[0;34m,\u001b[0m\u001b[0;34m\u001b[0m\u001b[0m\n\u001b[1;32m    962\u001b[0m                               \u001b[0msteps_per_epoch\u001b[0m\u001b[0;34m=\u001b[0m\u001b[0msteps_per_epoch\u001b[0m\u001b[0;34m,\u001b[0m\u001b[0;34m\u001b[0m\u001b[0m\n\u001b[0;32m--> 963\u001b[0;31m                               validation_steps=validation_steps)\n\u001b[0m\u001b[1;32m    964\u001b[0m \u001b[0;34m\u001b[0m\u001b[0m\n\u001b[1;32m    965\u001b[0m     def evaluate(self, x=None, y=None,\n",
            "\u001b[0;32m/usr/local/lib/python3.6/dist-packages/keras/engine/training.py\u001b[0m in \u001b[0;36mfit\u001b[0;34m(self, x, y, batch_size, epochs, verbose, callbacks, validation_split, validation_data, shuffle, class_weight, sample_weight, initial_epoch, steps_per_epoch, validation_steps, **kwargs)\u001b[0m\n\u001b[1;32m   1703\u001b[0m                               \u001b[0minitial_epoch\u001b[0m\u001b[0;34m=\u001b[0m\u001b[0minitial_epoch\u001b[0m\u001b[0;34m,\u001b[0m\u001b[0;34m\u001b[0m\u001b[0m\n\u001b[1;32m   1704\u001b[0m                               \u001b[0msteps_per_epoch\u001b[0m\u001b[0;34m=\u001b[0m\u001b[0msteps_per_epoch\u001b[0m\u001b[0;34m,\u001b[0m\u001b[0;34m\u001b[0m\u001b[0m\n\u001b[0;32m-> 1705\u001b[0;31m                               validation_steps=validation_steps)\n\u001b[0m\u001b[1;32m   1706\u001b[0m \u001b[0;34m\u001b[0m\u001b[0m\n\u001b[1;32m   1707\u001b[0m     def evaluate(self, x=None, y=None,\n",
            "\u001b[0;32m/usr/local/lib/python3.6/dist-packages/keras/engine/training.py\u001b[0m in \u001b[0;36m_fit_loop\u001b[0;34m(self, f, ins, out_labels, batch_size, epochs, verbose, callbacks, val_f, val_ins, shuffle, callback_metrics, initial_epoch, steps_per_epoch, validation_steps)\u001b[0m\n\u001b[1;32m   1233\u001b[0m                         \u001b[0mins_batch\u001b[0m\u001b[0;34m[\u001b[0m\u001b[0mi\u001b[0m\u001b[0;34m]\u001b[0m \u001b[0;34m=\u001b[0m \u001b[0mins_batch\u001b[0m\u001b[0;34m[\u001b[0m\u001b[0mi\u001b[0m\u001b[0;34m]\u001b[0m\u001b[0;34m.\u001b[0m\u001b[0mtoarray\u001b[0m\u001b[0;34m(\u001b[0m\u001b[0;34m)\u001b[0m\u001b[0;34m\u001b[0m\u001b[0m\n\u001b[1;32m   1234\u001b[0m \u001b[0;34m\u001b[0m\u001b[0m\n\u001b[0;32m-> 1235\u001b[0;31m                     \u001b[0mouts\u001b[0m \u001b[0;34m=\u001b[0m \u001b[0mf\u001b[0m\u001b[0;34m(\u001b[0m\u001b[0mins_batch\u001b[0m\u001b[0;34m)\u001b[0m\u001b[0;34m\u001b[0m\u001b[0m\n\u001b[0m\u001b[1;32m   1236\u001b[0m                     \u001b[0;32mif\u001b[0m \u001b[0;32mnot\u001b[0m \u001b[0misinstance\u001b[0m\u001b[0;34m(\u001b[0m\u001b[0mouts\u001b[0m\u001b[0;34m,\u001b[0m \u001b[0mlist\u001b[0m\u001b[0;34m)\u001b[0m\u001b[0;34m:\u001b[0m\u001b[0;34m\u001b[0m\u001b[0m\n\u001b[1;32m   1237\u001b[0m                         \u001b[0mouts\u001b[0m \u001b[0;34m=\u001b[0m \u001b[0;34m[\u001b[0m\u001b[0mouts\u001b[0m\u001b[0;34m]\u001b[0m\u001b[0;34m\u001b[0m\u001b[0m\n",
            "\u001b[0;32m/usr/local/lib/python3.6/dist-packages/keras/backend/tensorflow_backend.py\u001b[0m in \u001b[0;36m__call__\u001b[0;34m(self, inputs)\u001b[0m\n\u001b[1;32m   2476\u001b[0m         \u001b[0msession\u001b[0m \u001b[0;34m=\u001b[0m \u001b[0mget_session\u001b[0m\u001b[0;34m(\u001b[0m\u001b[0;34m)\u001b[0m\u001b[0;34m\u001b[0m\u001b[0m\n\u001b[1;32m   2477\u001b[0m         updated = session.run(fetches=fetches, feed_dict=feed_dict,\n\u001b[0;32m-> 2478\u001b[0;31m                               **self.session_kwargs)\n\u001b[0m\u001b[1;32m   2479\u001b[0m         \u001b[0;32mreturn\u001b[0m \u001b[0mupdated\u001b[0m\u001b[0;34m[\u001b[0m\u001b[0;34m:\u001b[0m\u001b[0mlen\u001b[0m\u001b[0;34m(\u001b[0m\u001b[0mself\u001b[0m\u001b[0;34m.\u001b[0m\u001b[0moutputs\u001b[0m\u001b[0;34m)\u001b[0m\u001b[0;34m]\u001b[0m\u001b[0;34m\u001b[0m\u001b[0m\n\u001b[1;32m   2480\u001b[0m \u001b[0;34m\u001b[0m\u001b[0m\n",
            "\u001b[0;32m/usr/local/lib/python3.6/dist-packages/tensorflow/python/client/session.py\u001b[0m in \u001b[0;36mrun\u001b[0;34m(self, fetches, feed_dict, options, run_metadata)\u001b[0m\n\u001b[1;32m    903\u001b[0m     \u001b[0;32mtry\u001b[0m\u001b[0;34m:\u001b[0m\u001b[0;34m\u001b[0m\u001b[0m\n\u001b[1;32m    904\u001b[0m       result = self._run(None, fetches, feed_dict, options_ptr,\n\u001b[0;32m--> 905\u001b[0;31m                          run_metadata_ptr)\n\u001b[0m\u001b[1;32m    906\u001b[0m       \u001b[0;32mif\u001b[0m \u001b[0mrun_metadata\u001b[0m\u001b[0;34m:\u001b[0m\u001b[0;34m\u001b[0m\u001b[0m\n\u001b[1;32m    907\u001b[0m         \u001b[0mproto_data\u001b[0m \u001b[0;34m=\u001b[0m \u001b[0mtf_session\u001b[0m\u001b[0;34m.\u001b[0m\u001b[0mTF_GetBuffer\u001b[0m\u001b[0;34m(\u001b[0m\u001b[0mrun_metadata_ptr\u001b[0m\u001b[0;34m)\u001b[0m\u001b[0;34m\u001b[0m\u001b[0m\n",
            "\u001b[0;32m/usr/local/lib/python3.6/dist-packages/tensorflow/python/client/session.py\u001b[0m in \u001b[0;36m_run\u001b[0;34m(self, handle, fetches, feed_dict, options, run_metadata)\u001b[0m\n\u001b[1;32m   1135\u001b[0m     \u001b[0;32mif\u001b[0m \u001b[0mfinal_fetches\u001b[0m \u001b[0;32mor\u001b[0m \u001b[0mfinal_targets\u001b[0m \u001b[0;32mor\u001b[0m \u001b[0;34m(\u001b[0m\u001b[0mhandle\u001b[0m \u001b[0;32mand\u001b[0m \u001b[0mfeed_dict_tensor\u001b[0m\u001b[0;34m)\u001b[0m\u001b[0;34m:\u001b[0m\u001b[0;34m\u001b[0m\u001b[0m\n\u001b[1;32m   1136\u001b[0m       results = self._do_run(handle, final_targets, final_fetches,\n\u001b[0;32m-> 1137\u001b[0;31m                              feed_dict_tensor, options, run_metadata)\n\u001b[0m\u001b[1;32m   1138\u001b[0m     \u001b[0;32melse\u001b[0m\u001b[0;34m:\u001b[0m\u001b[0;34m\u001b[0m\u001b[0m\n\u001b[1;32m   1139\u001b[0m       \u001b[0mresults\u001b[0m \u001b[0;34m=\u001b[0m \u001b[0;34m[\u001b[0m\u001b[0;34m]\u001b[0m\u001b[0;34m\u001b[0m\u001b[0m\n",
            "\u001b[0;32m/usr/local/lib/python3.6/dist-packages/tensorflow/python/client/session.py\u001b[0m in \u001b[0;36m_do_run\u001b[0;34m(self, handle, target_list, fetch_list, feed_dict, options, run_metadata)\u001b[0m\n\u001b[1;32m   1353\u001b[0m     \u001b[0;32mif\u001b[0m \u001b[0mhandle\u001b[0m \u001b[0;32mis\u001b[0m \u001b[0;32mNone\u001b[0m\u001b[0;34m:\u001b[0m\u001b[0;34m\u001b[0m\u001b[0m\n\u001b[1;32m   1354\u001b[0m       return self._do_call(_run_fn, self._session, feeds, fetches, targets,\n\u001b[0;32m-> 1355\u001b[0;31m                            options, run_metadata)\n\u001b[0m\u001b[1;32m   1356\u001b[0m     \u001b[0;32melse\u001b[0m\u001b[0;34m:\u001b[0m\u001b[0;34m\u001b[0m\u001b[0m\n\u001b[1;32m   1357\u001b[0m       \u001b[0;32mreturn\u001b[0m \u001b[0mself\u001b[0m\u001b[0;34m.\u001b[0m\u001b[0m_do_call\u001b[0m\u001b[0;34m(\u001b[0m\u001b[0m_prun_fn\u001b[0m\u001b[0;34m,\u001b[0m \u001b[0mself\u001b[0m\u001b[0;34m.\u001b[0m\u001b[0m_session\u001b[0m\u001b[0;34m,\u001b[0m \u001b[0mhandle\u001b[0m\u001b[0;34m,\u001b[0m \u001b[0mfeeds\u001b[0m\u001b[0;34m,\u001b[0m \u001b[0mfetches\u001b[0m\u001b[0;34m)\u001b[0m\u001b[0;34m\u001b[0m\u001b[0m\n",
            "\u001b[0;32m/usr/local/lib/python3.6/dist-packages/tensorflow/python/client/session.py\u001b[0m in \u001b[0;36m_do_call\u001b[0;34m(self, fn, *args)\u001b[0m\n\u001b[1;32m   1359\u001b[0m   \u001b[0;32mdef\u001b[0m \u001b[0m_do_call\u001b[0m\u001b[0;34m(\u001b[0m\u001b[0mself\u001b[0m\u001b[0;34m,\u001b[0m \u001b[0mfn\u001b[0m\u001b[0;34m,\u001b[0m \u001b[0;34m*\u001b[0m\u001b[0margs\u001b[0m\u001b[0;34m)\u001b[0m\u001b[0;34m:\u001b[0m\u001b[0;34m\u001b[0m\u001b[0m\n\u001b[1;32m   1360\u001b[0m     \u001b[0;32mtry\u001b[0m\u001b[0;34m:\u001b[0m\u001b[0;34m\u001b[0m\u001b[0m\n\u001b[0;32m-> 1361\u001b[0;31m       \u001b[0;32mreturn\u001b[0m \u001b[0mfn\u001b[0m\u001b[0;34m(\u001b[0m\u001b[0;34m*\u001b[0m\u001b[0margs\u001b[0m\u001b[0;34m)\u001b[0m\u001b[0;34m\u001b[0m\u001b[0m\n\u001b[0m\u001b[1;32m   1362\u001b[0m     \u001b[0;32mexcept\u001b[0m \u001b[0merrors\u001b[0m\u001b[0;34m.\u001b[0m\u001b[0mOpError\u001b[0m \u001b[0;32mas\u001b[0m \u001b[0me\u001b[0m\u001b[0;34m:\u001b[0m\u001b[0;34m\u001b[0m\u001b[0m\n\u001b[1;32m   1363\u001b[0m       \u001b[0mmessage\u001b[0m \u001b[0;34m=\u001b[0m \u001b[0mcompat\u001b[0m\u001b[0;34m.\u001b[0m\u001b[0mas_text\u001b[0m\u001b[0;34m(\u001b[0m\u001b[0me\u001b[0m\u001b[0;34m.\u001b[0m\u001b[0mmessage\u001b[0m\u001b[0;34m)\u001b[0m\u001b[0;34m\u001b[0m\u001b[0m\n",
            "\u001b[0;32m/usr/local/lib/python3.6/dist-packages/tensorflow/python/client/session.py\u001b[0m in \u001b[0;36m_run_fn\u001b[0;34m(session, feed_dict, fetch_list, target_list, options, run_metadata)\u001b[0m\n\u001b[1;32m   1338\u001b[0m         \u001b[0;32melse\u001b[0m\u001b[0;34m:\u001b[0m\u001b[0;34m\u001b[0m\u001b[0m\n\u001b[1;32m   1339\u001b[0m           return tf_session.TF_Run(session, options, feed_dict, fetch_list,\n\u001b[0;32m-> 1340\u001b[0;31m                                    target_list, status, run_metadata)\n\u001b[0m\u001b[1;32m   1341\u001b[0m \u001b[0;34m\u001b[0m\u001b[0m\n\u001b[1;32m   1342\u001b[0m     \u001b[0;32mdef\u001b[0m \u001b[0m_prun_fn\u001b[0m\u001b[0;34m(\u001b[0m\u001b[0msession\u001b[0m\u001b[0;34m,\u001b[0m \u001b[0mhandle\u001b[0m\u001b[0;34m,\u001b[0m \u001b[0mfeed_dict\u001b[0m\u001b[0;34m,\u001b[0m \u001b[0mfetch_list\u001b[0m\u001b[0;34m)\u001b[0m\u001b[0;34m:\u001b[0m\u001b[0;34m\u001b[0m\u001b[0m\n",
            "\u001b[0;31mKeyboardInterrupt\u001b[0m: "
          ]
        }
      ]
    },
    {
      "metadata": {
        "id": "SsX7CjIJ-6u4",
        "colab_type": "code",
        "colab": {
          "base_uri": "https://localhost:8080/",
          "height": 707
        },
        "outputId": "ffd5ba9b-5ed8-4f2d-c2ff-fc2569d8ad6b"
      },
      "cell_type": "code",
      "source": [
        "acc = history.history['acc']\n",
        "val_acc = history.history['val_acc']\n",
        "loss = history.history['loss']\n",
        "val_loss = history.history['val_loss']\n",
        "\n",
        "epochs = range(len(acc))\n",
        "\n",
        "plt.plot(epochs, acc, 'bo', label='Training acc')\n",
        "plt.plot(epochs, val_acc, 'b', label='Validation acc')\n",
        "plt.title('Training and validation accuracy')\n",
        "plt.legend()\n",
        "\n",
        "plt.figure()\n",
        "\n",
        "plt.plot(epochs, loss, 'bo', label='Training loss')\n",
        "plt.plot(epochs, val_loss, 'b', label='Validation loss')\n",
        "plt.title('Training and validation loss')\n",
        "plt.legend()\n",
        "\n",
        "plt.show()"
      ],
      "execution_count": 0,
      "outputs": [
        {
          "output_type": "display_data",
          "data": {
            "image/png": "[encoded data removed]",
            "text/plain": [
              "<matplotlib.figure.Figure at 0x7f6cac42db38>"
            ]
          },
          "metadata": {
            "tags": []
          }
        },
        {
          "output_type": "display_data",
          "data": {
            "image/png": "[encoded data removed]",
            "text/plain": [
              "<matplotlib.figure.Figure at 0x7f6d083c2128>"
            ]
          },
          "metadata": {
            "tags": []
          }
        }
      ]
    },
    {
      "metadata": {
        "id": "Vz_V69HuyQ_C",
        "colab_type": "text"
      },
      "cell_type": "markdown",
      "source": [
        "## Réseau dense en bout de VGG 16"
      ]
    },
    {
      "metadata": {
        "id": "Fr_pSljm_g8C",
        "colab_type": "text"
      },
      "cell_type": "markdown",
      "source": [
        "Deuixième méthode: réseau dense mis au bout de conv_base. Nous permet d'utiliser le data augmentation"
      ]
    },
    {
      "metadata": {
        "id": "TAyPIgXR_fnN",
        "colab_type": "code",
        "colab": {}
      },
      "cell_type": "code",
      "source": [
        "model = models.Sequential()\n",
        "model.add(conv_base)\n",
        "model.add(layers.Flatten())\n",
        "model.add(layers.Dense(256, activation='relu'))\n",
        "model.add(layers.Dense(1, activation='sigmoid'))"
      ],
      "execution_count": 0,
      "outputs": []
    },
    {
      "metadata": {
        "id": "lwum11X0_u02",
        "colab_type": "code",
        "colab": {
          "base_uri": "https://localhost:8080/",
          "height": 300
        },
        "outputId": "8dcf45fb-77ab-4149-ad30-0884e0386940"
      },
      "cell_type": "code",
      "source": [
        "model.summary()"
      ],
      "execution_count": 89,
      "outputs": [
        {
          "output_type": "stream",
          "text": [
            "_________________________________________________________________\n",
            "Layer (type)                 Output Shape              Param #   \n",
            "=================================================================\n",
            "vgg16 (Model)                (None, 1, 1, 512)         14714688  \n",
            "_________________________________________________________________\n",
            "flatten_2 (Flatten)          (None, 512)               0         \n",
            "_________________________________________________________________\n",
            "dense_3 (Dense)              (None, 256)               131328    \n",
            "_________________________________________________________________\n",
            "dense_4 (Dense)              (None, 1)                 257       \n",
            "=================================================================\n",
            "Total params: 14,846,273\n",
            "Trainable params: 14,846,273\n",
            "Non-trainable params: 0\n",
            "_________________________________________________________________\n"
          ],
          "name": "stdout"
        }
      ]
    },
    {
      "metadata": {
        "id": "690AlXzEAnN2",
        "colab_type": "code",
        "colab": {
          "base_uri": "https://localhost:8080/",
          "height": 55
        },
        "outputId": "7b0dd4f4-c4a0-4a95-cebb-23054e6014d2"
      },
      "cell_type": "code",
      "source": [
        "print('Nombre de poids entrainables',\n",
        "       len(model.trainable_weights))\n",
        "conv_base.trainable = False\n",
        "\n",
        "\n",
        "print('Nombre de poids entrainables après avoir fixé conv_base '\n",
        "      , len(model.trainable_weights))"
      ],
      "execution_count": 90,
      "outputs": [
        {
          "output_type": "stream",
          "text": [
            "This is the number of trainable weights before freezing the conv base: 30\n",
            "This is the number of trainable weights after freezing the conv base: 4\n"
          ],
          "name": "stdout"
        }
      ]
    },
    {
      "metadata": {
        "id": "BuoXZunYBBPi",
        "colab_type": "code",
        "colab": {
          "base_uri": "https://localhost:8080/",
          "height": 55
        },
        "outputId": "3d9c4105-8ba8-493d-90d6-b7b764db0271"
      },
      "cell_type": "code",
      "source": [
        "\"\"\"train_datagen = ImageDataGenerator(\n",
        "      rescale=1./255,\n",
        "      rotation_range=40,\n",
        "      width_shift_range=0.2,\n",
        "      height_shift_range=0.2,\n",
        "      shear_range=0.2,\n",
        "      zoom_range=0.2,\n",
        "      horizontal_flip=True,\n",
        "      fill_mode='nearest')\"\"\"\n",
        "train_datagen = ImageDataGenerator(rescale=1./255)\n",
        "\n",
        "# Note that the validation data should not be augmented!\n",
        "test_datagen = ImageDataGenerator(rescale=1./255)\n",
        "\n",
        "train_generator = train_datagen.flow_from_directory(\n",
        "        # This is the target directory\n",
        "        train_dir,\n",
        "        # All images will be resized to 150x150\n",
        "        target_size=(50, 50),\n",
        "        batch_size=20,\n",
        "        # Since we use binary_crossentropy loss, we need binary labels\n",
        "        class_mode='binary')\n",
        "\n",
        "validation_generator = test_datagen.flow_from_directory(\n",
        "        validation_dir,\n",
        "        target_size=(50, 50),\n",
        "        batch_size=20,\n",
        "        class_mode='binary')\n",
        "\n",
        "model.compile(loss='binary_crossentropy',\n",
        "              optimizer=optimizers.RMSprop(lr=2e-5),\n",
        "              metrics=['acc'])\n"
      ],
      "execution_count": 92,
      "outputs": [
        {
          "output_type": "stream",
          "text": [
            "Found 2000 images belonging to 2 classes.\n",
            "Found 1000 images belonging to 2 classes.\n"
          ],
          "name": "stdout"
        }
      ]
    },
    {
      "metadata": {
        "id": "E2eRniIf8tgQ",
        "colab_type": "code",
        "colab": {
          "base_uri": "https://localhost:8080/",
          "height": 394
        },
        "outputId": "3bea64c4-8bfe-4cf9-a869-d0118aab3f29"
      },
      "cell_type": "code",
      "source": [
        "history = model.fit_generator(\n",
        "      train_generator,\n",
        "      steps_per_epoch=100,\n",
        "      epochs=10,\n",
        "      validation_data=validation_generator,\n",
        "      validation_steps=50,\n",
        "      verbose=2)"
      ],
      "execution_count": 93,
      "outputs": [
        {
          "output_type": "stream",
          "text": [
            "Epoch 1/10\n",
            " - 5s - loss: 0.6389 - acc: 0.7125 - val_loss: 0.6057 - val_acc: 0.7780\n",
            "Epoch 2/10\n",
            " - 4s - loss: 0.5676 - acc: 0.8025 - val_loss: 0.5470 - val_acc: 0.8170\n",
            "Epoch 3/10\n",
            " - 4s - loss: 0.5141 - acc: 0.8225 - val_loss: 0.5024 - val_acc: 0.8340\n",
            "Epoch 4/10\n",
            " - 4s - loss: 0.4733 - acc: 0.8390 - val_loss: 0.4661 - val_acc: 0.8370\n",
            "Epoch 5/10\n",
            " - 4s - loss: 0.4413 - acc: 0.8515 - val_loss: 0.4384 - val_acc: 0.8530\n",
            "Epoch 6/10\n",
            " - 4s - loss: 0.4179 - acc: 0.8595 - val_loss: 0.4167 - val_acc: 0.8480\n",
            "Epoch 7/10\n",
            " - 5s - loss: 0.3983 - acc: 0.8625 - val_loss: 0.3980 - val_acc: 0.8560\n",
            "Epoch 8/10\n",
            " - 4s - loss: 0.3823 - acc: 0.8635 - val_loss: 0.3829 - val_acc: 0.8580\n",
            "Epoch 9/10\n",
            " - 4s - loss: 0.3704 - acc: 0.8640 - val_loss: 0.3717 - val_acc: 0.8600\n",
            "Epoch 10/10\n",
            " - 4s - loss: 0.3609 - acc: 0.8650 - val_loss: 0.3628 - val_acc: 0.8590\n"
          ],
          "name": "stdout"
        }
      ]
    },
    {
      "metadata": {
        "id": "5nRQPx2NCury",
        "colab_type": "code",
        "colab": {}
      },
      "cell_type": "code",
      "source": [
        "model.save('grasping_vgg16_50.h5')"
      ],
      "execution_count": 0,
      "outputs": []
    },
    {
      "metadata": {
        "id": "UEpqih3_txNP",
        "colab_type": "code",
        "colab": {}
      },
      "cell_type": "code",
      "source": [
        "print(os.getcwd())\n",
        "!ls"
      ],
      "execution_count": 0,
      "outputs": []
    },
    {
      "metadata": {
        "id": "gRsp9wZl-wzQ",
        "colab_type": "text"
      },
      "cell_type": "markdown",
      "source": [
        "Importer un modèle enregistrer déjà sauvé."
      ]
    },
    {
      "metadata": {
        "id": "C01wutnetCrH",
        "colab_type": "code",
        "colab": {}
      },
      "cell_type": "code",
      "source": [
        "from keras.models import load_model\n",
        "model=load_model('grasping_vgg16_1.h5')"
      ],
      "execution_count": 0,
      "outputs": []
    },
    {
      "metadata": {
        "id": "ltXYmXyhE4Dq",
        "colab_type": "code",
        "colab": {
          "base_uri": "https://localhost:8080/",
          "height": 707
        },
        "outputId": "6747ecbf-6a24-4a8a-df3b-95853d8cd719"
      },
      "cell_type": "code",
      "source": [
        "acc = history.history['acc']\n",
        "val_acc = history.history['val_acc']\n",
        "loss = history.history['loss']\n",
        "val_loss = history.history['val_loss']\n",
        "\n",
        "epochs = range(len(acc))\n",
        "\n",
        "plt.plot(epochs, acc, 'bo', label='Training acc')\n",
        "plt.plot(epochs, val_acc, 'b', label='Validation acc')\n",
        "plt.title('Training and validation accuracy')\n",
        "plt.legend()\n",
        "\n",
        "plt.figure()\n",
        "\n",
        "plt.plot(epochs, loss, 'bo', label='Training loss')\n",
        "plt.plot(epochs, val_loss, 'b', label='Validation loss')\n",
        "plt.title('Training and validation loss')\n",
        "plt.legend()\n",
        "\n",
        "plt.show()"
      ],
      "execution_count": 40,
      "outputs": [
        {
          "output_type": "display_data",
          "data": {
            "image/png": "[encoded data removed]",
            "text/plain": [
              "<matplotlib.figure.Figure at 0x7f2afda178d0>"
            ]
          },
          "metadata": {
            "tags": []
          }
        },
        {
          "output_type": "display_data",
          "data": {
            "image/png": "[encoded data removed]",
            "text/plain": [
              "<matplotlib.figure.Figure at 0x7f2afda33198>"
            ]
          },
          "metadata": {
            "tags": []
          }
        }
      ]
    },
    {
      "metadata": {
        "id": "kbwp8h4n-WEc",
        "colab_type": "text"
      },
      "cell_type": "markdown",
      "source": [
        "# Predictions et utilisation du réseau"
      ]
    },
    {
      "metadata": {
        "id": "Mp2MDrCV-hzc",
        "colab_type": "text"
      },
      "cell_type": "markdown",
      "source": [
        "Importer une image à tester. Dans certains cas, soulève une erreur sur firefox. Dans ce ca-là, utilisez chrome."
      ]
    },
    {
      "metadata": {
        "id": "H6m6wRisWdC4",
        "colab_type": "code",
        "colab": {
          "resources": {
            "http://localhost:8080/nbextensions/google.colab/files.js": {
              "data": "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",
              "ok": true,
              "headers": [
                [
                  "content-type",
                  "application/javascript"
                ]
              ],
              "status": 200,
              "status_text": "OK"
            }
          },
          "base_uri": "https://localhost:8080/",
          "height": 95
        },
        "outputId": "d30ce9ae-e8e1-4660-8943-987d9dc36dd9"
      },
      "cell_type": "code",
      "source": [
        "os.chdir('/content')\n",
        "from google.colab import files\n",
        "uploaded = files.upload()\n",
        "\n",
        "for fn in uploaded.keys():\n",
        "  print('User uploaded file \"{name}\" with length {length} bytes'.format(\n",
        "      name=fn, length=len(uploaded[fn])))"
      ],
      "execution_count": 55,
      "outputs": [
        {
          "output_type": "display_data",
          "data": {
            "text/html": [
              "\n",
              "     <input type=\"file\" id=\"files-83da1a4d-9b1d-452e-826e-665fe9815697\" name=\"files[]\" multiple disabled />\n",
              "     <output id=\"result-83da1a4d-9b1d-452e-826e-665fe9815697\">\n",
              "      Upload widget is only available when the cell has been executed in the\n",
              "      current browser session. Please rerun this cell to enable.\n",
              "      </output>\n",
              "      <script src=\"/nbextensions/google.colab/files.js\"></script> "
            ],
            "text/plain": [
              "<IPython.core.display.HTML object>"
            ]
          },
          "metadata": {
            "tags": []
          }
        },
        {
          "output_type": "stream",
          "text": [
            "Saving pcd0118r.png to pcd0118r.png\n",
            "User uploaded file \"pcd0118r.png\" with length 398027 bytes\n"
          ],
          "name": "stdout"
        }
      ]
    },
    {
      "metadata": {
        "id": "gak89tdP_jaA",
        "colab_type": "text"
      },
      "cell_type": "markdown",
      "source": [
        "## Essais non aboutis\n",
        "Bouts de codes qui n'ont pas vraiment servi pour linstant."
      ]
    },
    {
      "metadata": {
        "id": "Ygms9fdsSyyM",
        "colab_type": "code",
        "colab": {
          "base_uri": "https://localhost:8080/",
          "height": 1067
        },
        "outputId": "c7af85de-fc8c-4cff-a499-0f11b9da3097"
      },
      "cell_type": "code",
      "source": [
        "test_datagen = ImageDataGenerator(rescale=1./255)\n",
        "\n",
        "test_generator = test_datagen.flow_from_directory(\n",
        "        testdir,\n",
        "        target_size=(150, 150),\n",
        "        batch_size=20,\n",
        "        class_mode=None,  # only data, no labels\n",
        "        shuffle=False)  # keep data in same order as labels\n",
        "\n",
        "probabilities = model.predict_generator(test_generator, 100)"
      ],
      "execution_count": 0,
      "outputs": [
        {
          "output_type": "stream",
          "text": [
            "Found 0 images belonging to 0 classes.\n"
          ],
          "name": "stdout"
        },
        {
          "output_type": "error",
          "ename": "KeyboardInterrupt",
          "evalue": "ignored",
          "traceback": [
            "\u001b[0;31m---------------------------------------------------------------------------\u001b[0m",
            "\u001b[0;31mKeyboardInterrupt\u001b[0m                         Traceback (most recent call last)",
            "\u001b[0;32m<ipython-input-93-32eca6a8ab54>\u001b[0m in \u001b[0;36m<module>\u001b[0;34m()\u001b[0m\n\u001b[1;32m      8\u001b[0m         shuffle=False)  # keep data in same order as labels\n\u001b[1;32m      9\u001b[0m \u001b[0;34m\u001b[0m\u001b[0m\n\u001b[0;32m---> 10\u001b[0;31m \u001b[0mprobabilities\u001b[0m \u001b[0;34m=\u001b[0m \u001b[0mmodel\u001b[0m\u001b[0;34m.\u001b[0m\u001b[0mpredict_generator\u001b[0m\u001b[0;34m(\u001b[0m\u001b[0mtest_generator\u001b[0m\u001b[0;34m,\u001b[0m \u001b[0;36m100\u001b[0m\u001b[0;34m)\u001b[0m\u001b[0;34m\u001b[0m\u001b[0m\n\u001b[0m",
            "\u001b[0;32m/usr/local/lib/python3.6/dist-packages/keras/legacy/interfaces.py\u001b[0m in \u001b[0;36mwrapper\u001b[0;34m(*args, **kwargs)\u001b[0m\n\u001b[1;32m     89\u001b[0m                 warnings.warn('Update your `' + object_name +\n\u001b[1;32m     90\u001b[0m                               '` call to the Keras 2 API: ' + signature, stacklevel=2)\n\u001b[0;32m---> 91\u001b[0;31m             \u001b[0;32mreturn\u001b[0m \u001b[0mfunc\u001b[0m\u001b[0;34m(\u001b[0m\u001b[0;34m*\u001b[0m\u001b[0margs\u001b[0m\u001b[0;34m,\u001b[0m \u001b[0;34m**\u001b[0m\u001b[0mkwargs\u001b[0m\u001b[0;34m)\u001b[0m\u001b[0;34m\u001b[0m\u001b[0m\n\u001b[0m\u001b[1;32m     92\u001b[0m         \u001b[0mwrapper\u001b[0m\u001b[0;34m.\u001b[0m\u001b[0m_original_function\u001b[0m \u001b[0;34m=\u001b[0m \u001b[0mfunc\u001b[0m\u001b[0;34m\u001b[0m\u001b[0m\n\u001b[1;32m     93\u001b[0m         \u001b[0;32mreturn\u001b[0m \u001b[0mwrapper\u001b[0m\u001b[0;34m\u001b[0m\u001b[0m\n",
            "\u001b[0;32m/usr/local/lib/python3.6/dist-packages/keras/models.py\u001b[0m in \u001b[0;36mpredict_generator\u001b[0;34m(self, generator, steps, max_queue_size, workers, use_multiprocessing, verbose)\u001b[0m\n\u001b[1;32m   1351\u001b[0m                                             \u001b[0mworkers\u001b[0m\u001b[0;34m=\u001b[0m\u001b[0mworkers\u001b[0m\u001b[0;34m,\u001b[0m\u001b[0;34m\u001b[0m\u001b[0m\n\u001b[1;32m   1352\u001b[0m                                             \u001b[0muse_multiprocessing\u001b[0m\u001b[0;34m=\u001b[0m\u001b[0muse_multiprocessing\u001b[0m\u001b[0;34m,\u001b[0m\u001b[0;34m\u001b[0m\u001b[0m\n\u001b[0;32m-> 1353\u001b[0;31m                                             verbose=verbose)\n\u001b[0m\u001b[1;32m   1354\u001b[0m \u001b[0;34m\u001b[0m\u001b[0m\n\u001b[1;32m   1355\u001b[0m     \u001b[0;32mdef\u001b[0m \u001b[0mget_config\u001b[0m\u001b[0;34m(\u001b[0m\u001b[0mself\u001b[0m\u001b[0;34m)\u001b[0m\u001b[0;34m:\u001b[0m\u001b[0;34m\u001b[0m\u001b[0m\n",
            "\u001b[0;32m/usr/local/lib/python3.6/dist-packages/keras/legacy/interfaces.py\u001b[0m in \u001b[0;36mwrapper\u001b[0;34m(*args, **kwargs)\u001b[0m\n\u001b[1;32m     89\u001b[0m                 warnings.warn('Update your `' + object_name +\n\u001b[1;32m     90\u001b[0m                               '` call to the Keras 2 API: ' + signature, stacklevel=2)\n\u001b[0;32m---> 91\u001b[0;31m             \u001b[0;32mreturn\u001b[0m \u001b[0mfunc\u001b[0m\u001b[0;34m(\u001b[0m\u001b[0;34m*\u001b[0m\u001b[0margs\u001b[0m\u001b[0;34m,\u001b[0m \u001b[0;34m**\u001b[0m\u001b[0mkwargs\u001b[0m\u001b[0;34m)\u001b[0m\u001b[0;34m\u001b[0m\u001b[0m\n\u001b[0m\u001b[1;32m     92\u001b[0m         \u001b[0mwrapper\u001b[0m\u001b[0;34m.\u001b[0m\u001b[0m_original_function\u001b[0m \u001b[0;34m=\u001b[0m \u001b[0mfunc\u001b[0m\u001b[0;34m\u001b[0m\u001b[0m\n\u001b[1;32m     93\u001b[0m         \u001b[0;32mreturn\u001b[0m \u001b[0mwrapper\u001b[0m\u001b[0;34m\u001b[0m\u001b[0m\n",
            "\u001b[0;32m/usr/local/lib/python3.6/dist-packages/keras/engine/training.py\u001b[0m in \u001b[0;36mpredict_generator\u001b[0;34m(self, generator, steps, max_queue_size, workers, use_multiprocessing, verbose)\u001b[0m\n\u001b[1;32m   2490\u001b[0m \u001b[0;34m\u001b[0m\u001b[0m\n\u001b[1;32m   2491\u001b[0m             \u001b[0;32mwhile\u001b[0m \u001b[0msteps_done\u001b[0m \u001b[0;34m<\u001b[0m \u001b[0msteps\u001b[0m\u001b[0;34m:\u001b[0m\u001b[0;34m\u001b[0m\u001b[0m\n\u001b[0;32m-> 2492\u001b[0;31m                 \u001b[0mgenerator_output\u001b[0m \u001b[0;34m=\u001b[0m \u001b[0mnext\u001b[0m\u001b[0;34m(\u001b[0m\u001b[0moutput_generator\u001b[0m\u001b[0;34m)\u001b[0m\u001b[0;34m\u001b[0m\u001b[0m\n\u001b[0m\u001b[1;32m   2493\u001b[0m                 \u001b[0;32mif\u001b[0m \u001b[0misinstance\u001b[0m\u001b[0;34m(\u001b[0m\u001b[0mgenerator_output\u001b[0m\u001b[0;34m,\u001b[0m \u001b[0mtuple\u001b[0m\u001b[0;34m)\u001b[0m\u001b[0;34m:\u001b[0m\u001b[0;34m\u001b[0m\u001b[0m\n\u001b[1;32m   2494\u001b[0m                     \u001b[0;31m# Compatibility with the generators\u001b[0m\u001b[0;34m\u001b[0m\u001b[0;34m\u001b[0m\u001b[0m\n",
            "\u001b[0;32m/usr/local/lib/python3.6/dist-packages/keras/utils/data_utils.py\u001b[0m in \u001b[0;36mget\u001b[0;34m(self)\u001b[0m\n\u001b[1;32m    576\u001b[0m         \u001b[0;32mtry\u001b[0m\u001b[0;34m:\u001b[0m\u001b[0;34m\u001b[0m\u001b[0m\n\u001b[1;32m    577\u001b[0m             \u001b[0;32mwhile\u001b[0m \u001b[0mself\u001b[0m\u001b[0;34m.\u001b[0m\u001b[0mis_running\u001b[0m\u001b[0;34m(\u001b[0m\u001b[0;34m)\u001b[0m\u001b[0;34m:\u001b[0m\u001b[0;34m\u001b[0m\u001b[0m\n\u001b[0;32m--> 578\u001b[0;31m                 \u001b[0minputs\u001b[0m \u001b[0;34m=\u001b[0m \u001b[0mself\u001b[0m\u001b[0;34m.\u001b[0m\u001b[0mqueue\u001b[0m\u001b[0;34m.\u001b[0m\u001b[0mget\u001b[0m\u001b[0;34m(\u001b[0m\u001b[0mblock\u001b[0m\u001b[0;34m=\u001b[0m\u001b[0;32mTrue\u001b[0m\u001b[0;34m)\u001b[0m\u001b[0;34m.\u001b[0m\u001b[0mget\u001b[0m\u001b[0;34m(\u001b[0m\u001b[0;34m)\u001b[0m\u001b[0;34m\u001b[0m\u001b[0m\n\u001b[0m\u001b[1;32m    579\u001b[0m                 \u001b[0mself\u001b[0m\u001b[0;34m.\u001b[0m\u001b[0mqueue\u001b[0m\u001b[0;34m.\u001b[0m\u001b[0mtask_done\u001b[0m\u001b[0;34m(\u001b[0m\u001b[0;34m)\u001b[0m\u001b[0;34m\u001b[0m\u001b[0m\n\u001b[1;32m    580\u001b[0m                 \u001b[0;32mif\u001b[0m \u001b[0minputs\u001b[0m \u001b[0;32mis\u001b[0m \u001b[0;32mnot\u001b[0m \u001b[0;32mNone\u001b[0m\u001b[0;34m:\u001b[0m\u001b[0;34m\u001b[0m\u001b[0m\n",
            "\u001b[0;32m/usr/lib/python3.6/queue.py\u001b[0m in \u001b[0;36mget\u001b[0;34m(self, block, timeout)\u001b[0m\n\u001b[1;32m    162\u001b[0m             \u001b[0;32melif\u001b[0m \u001b[0mtimeout\u001b[0m \u001b[0;32mis\u001b[0m \u001b[0;32mNone\u001b[0m\u001b[0;34m:\u001b[0m\u001b[0;34m\u001b[0m\u001b[0m\n\u001b[1;32m    163\u001b[0m                 \u001b[0;32mwhile\u001b[0m \u001b[0;32mnot\u001b[0m \u001b[0mself\u001b[0m\u001b[0;34m.\u001b[0m\u001b[0m_qsize\u001b[0m\u001b[0;34m(\u001b[0m\u001b[0;34m)\u001b[0m\u001b[0;34m:\u001b[0m\u001b[0;34m\u001b[0m\u001b[0m\n\u001b[0;32m--> 164\u001b[0;31m                     \u001b[0mself\u001b[0m\u001b[0;34m.\u001b[0m\u001b[0mnot_empty\u001b[0m\u001b[0;34m.\u001b[0m\u001b[0mwait\u001b[0m\u001b[0;34m(\u001b[0m\u001b[0;34m)\u001b[0m\u001b[0;34m\u001b[0m\u001b[0m\n\u001b[0m\u001b[1;32m    165\u001b[0m             \u001b[0;32melif\u001b[0m \u001b[0mtimeout\u001b[0m \u001b[0;34m<\u001b[0m \u001b[0;36m0\u001b[0m\u001b[0;34m:\u001b[0m\u001b[0;34m\u001b[0m\u001b[0m\n\u001b[1;32m    166\u001b[0m                 \u001b[0;32mraise\u001b[0m \u001b[0mValueError\u001b[0m\u001b[0;34m(\u001b[0m\u001b[0;34m\"'timeout' must be a non-negative number\"\u001b[0m\u001b[0;34m)\u001b[0m\u001b[0;34m\u001b[0m\u001b[0m\n",
            "\u001b[0;32m/usr/lib/python3.6/threading.py\u001b[0m in \u001b[0;36mwait\u001b[0;34m(self, timeout)\u001b[0m\n\u001b[1;32m    293\u001b[0m         \u001b[0;32mtry\u001b[0m\u001b[0;34m:\u001b[0m    \u001b[0;31m# restore state no matter what (e.g., KeyboardInterrupt)\u001b[0m\u001b[0;34m\u001b[0m\u001b[0m\n\u001b[1;32m    294\u001b[0m             \u001b[0;32mif\u001b[0m \u001b[0mtimeout\u001b[0m \u001b[0;32mis\u001b[0m \u001b[0;32mNone\u001b[0m\u001b[0;34m:\u001b[0m\u001b[0;34m\u001b[0m\u001b[0m\n\u001b[0;32m--> 295\u001b[0;31m                 \u001b[0mwaiter\u001b[0m\u001b[0;34m.\u001b[0m\u001b[0macquire\u001b[0m\u001b[0;34m(\u001b[0m\u001b[0;34m)\u001b[0m\u001b[0;34m\u001b[0m\u001b[0m\n\u001b[0m\u001b[1;32m    296\u001b[0m                 \u001b[0mgotit\u001b[0m \u001b[0;34m=\u001b[0m \u001b[0;32mTrue\u001b[0m\u001b[0;34m\u001b[0m\u001b[0m\n\u001b[1;32m    297\u001b[0m             \u001b[0;32melse\u001b[0m\u001b[0;34m:\u001b[0m\u001b[0;34m\u001b[0m\u001b[0m\n",
            "\u001b[0;31mKeyboardInterrupt\u001b[0m: "
          ]
        }
      ]
    },
    {
      "metadata": {
        "id": "tgXv0pAVUJHK",
        "colab_type": "code",
        "colab": {
          "base_uri": "https://localhost:8080/",
          "height": 136
        },
        "outputId": "108be09f-0089-4c28-9d29-d8d7b74b0f2a"
      },
      "cell_type": "code",
      "source": [
        "print(probabilities)"
      ],
      "execution_count": 0,
      "outputs": [
        {
          "output_type": "stream",
          "text": [
            "[[3.6565635e-02]\n",
            " [1.6909547e-01]\n",
            " [3.1095513e-07]\n",
            " ...\n",
            " [9.8992682e-01]\n",
            " [9.9954778e-01]\n",
            " [9.9999976e-01]]\n"
          ],
          "name": "stdout"
        }
      ]
    },
    {
      "metadata": {
        "id": "2i07eGgITQ4C",
        "colab_type": "code",
        "colab": {
          "base_uri": "https://localhost:8080/",
          "height": 55
        },
        "outputId": "e07fe6db-47a5-4d7d-e036-cc0a9b6d2a8c"
      },
      "cell_type": "code",
      "source": [
        "from sklearn.metrics import confusion_matrix\n",
        "import matplotlib.pyplot as plt\n",
        "import matplotlib\n",
        "import seaborn as sns\n",
        "% matplotlib inline\n",
        "\n",
        "\n",
        "y_true = np.array([0] * 1000 + [1] * 1000)\n",
        "y_pred = probabilities > 0.5\n",
        "\n",
        "confusion_matrix(y_true, y_pred)"
      ],
      "execution_count": 0,
      "outputs": [
        {
          "output_type": "execute_result",
          "data": {
            "text/plain": [
              "array([[586, 414],\n",
              "       [586, 414]])"
            ]
          },
          "metadata": {
            "tags": []
          },
          "execution_count": 48
        }
      ]
    },
    {
      "metadata": {
        "id": "dgC-P-s1gdfx",
        "colab_type": "code",
        "colab": {
          "base_uri": "https://localhost:8080/",
          "height": 51
        },
        "outputId": "7f03a15d-b13c-47f8-de87-5118646920de"
      },
      "cell_type": "code",
      "source": [
        "!ls"
      ],
      "execution_count": 0,
      "outputs": [
        {
          "output_type": "stream",
          "text": [
            "11 (1).jpg  CompleteDataset  datalab\t       SeparatedDataset\r\n",
            "11.jpg\t    data01.tar.gz    ExtractedDataset\r\n"
          ],
          "name": "stdout"
        }
      ]
    },
    {
      "metadata": {
        "id": "8dlF8VAHXgMQ",
        "colab_type": "code",
        "colab": {
          "base_uri": "https://localhost:8080/",
          "height": 1885
        },
        "outputId": "f56b7122-de33-406a-eaf6-4973d042b1c3"
      },
      "cell_type": "code",
      "source": [
        "img=Image.open('/content/pcd0134r.png')\n",
        "img_array= np.asarray(img)[:,:,:3]\n",
        "img_array=img_array/255\n",
        "print(img_array.shape)\n",
        "\n",
        "print(img_array)"
      ],
      "execution_count": 57,
      "outputs": [
        {
          "output_type": "stream",
          "text": [
            "[[[ 90  84  79]\n",
            "  [ 90  82  77]\n",
            "  [ 91  81  82]\n",
            "  ...\n",
            "  [ 10   7   8]\n",
            "  [ 13   6   8]\n",
            "  [ 17   5   8]]\n",
            "\n",
            " [[ 89  82  79]\n",
            "  [ 89  81  77]\n",
            "  [ 90  80  76]\n",
            "  ...\n",
            "  [ 11   6   8]\n",
            "  [ 10   6   8]\n",
            "  [ 10   5   8]]\n",
            "\n",
            " [[ 89  82  82]\n",
            "  [ 89  81  78]\n",
            "  [ 89  79  74]\n",
            "  ...\n",
            "  [ 12   8   7]\n",
            "  [  8   9   9]\n",
            "  [  4   9   9]]\n",
            "\n",
            " ...\n",
            "\n",
            " [[216 204 202]\n",
            "  [216 202 203]\n",
            "  [218 204 204]\n",
            "  ...\n",
            "  [ 75  54  62]\n",
            "  [ 76  56  76]\n",
            "  [ 77  60  76]]\n",
            "\n",
            " [[216 203 198]\n",
            "  [216 204 201]\n",
            "  [219 206 203]\n",
            "  ...\n",
            "  [ 71  50  52]\n",
            "  [ 74  52  66]\n",
            "  [ 77  55  66]]\n",
            "\n",
            " [[216 204 198]\n",
            "  [216 205 200]\n",
            "  [219 205 203]\n",
            "  ...\n",
            "  [ 71  50  42]\n",
            "  [ 74  52  57]\n",
            "  [ 77  54  57]]]\n",
            "(480, 640, 3)\n",
            "[[[0.35294118 0.32941176 0.30980392]\n",
            "  [0.35294118 0.32156863 0.30196078]\n",
            "  [0.35686275 0.31764706 0.32156863]\n",
            "  ...\n",
            "  [0.03921569 0.02745098 0.03137255]\n",
            "  [0.05098039 0.02352941 0.03137255]\n",
            "  [0.06666667 0.01960784 0.03137255]]\n",
            "\n",
            " [[0.34901961 0.32156863 0.30980392]\n",
            "  [0.34901961 0.31764706 0.30196078]\n",
            "  [0.35294118 0.31372549 0.29803922]\n",
            "  ...\n",
            "  [0.04313725 0.02352941 0.03137255]\n",
            "  [0.03921569 0.02352941 0.03137255]\n",
            "  [0.03921569 0.01960784 0.03137255]]\n",
            "\n",
            " [[0.34901961 0.32156863 0.32156863]\n",
            "  [0.34901961 0.31764706 0.30588235]\n",
            "  [0.34901961 0.30980392 0.29019608]\n",
            "  ...\n",
            "  [0.04705882 0.03137255 0.02745098]\n",
            "  [0.03137255 0.03529412 0.03529412]\n",
            "  [0.01568627 0.03529412 0.03529412]]\n",
            "\n",
            " ...\n",
            "\n",
            " [[0.84705882 0.8        0.79215686]\n",
            "  [0.84705882 0.79215686 0.79607843]\n",
            "  [0.85490196 0.8        0.8       ]\n",
            "  ...\n",
            "  [0.29411765 0.21176471 0.24313725]\n",
            "  [0.29803922 0.21960784 0.29803922]\n",
            "  [0.30196078 0.23529412 0.29803922]]\n",
            "\n",
            " [[0.84705882 0.79607843 0.77647059]\n",
            "  [0.84705882 0.8        0.78823529]\n",
            "  [0.85882353 0.80784314 0.79607843]\n",
            "  ...\n",
            "  [0.27843137 0.19607843 0.20392157]\n",
            "  [0.29019608 0.20392157 0.25882353]\n",
            "  [0.30196078 0.21568627 0.25882353]]\n",
            "\n",
            " [[0.84705882 0.8        0.77647059]\n",
            "  [0.84705882 0.80392157 0.78431373]\n",
            "  [0.85882353 0.80392157 0.79607843]\n",
            "  ...\n",
            "  [0.27843137 0.19607843 0.16470588]\n",
            "  [0.29019608 0.20392157 0.22352941]\n",
            "  [0.30196078 0.21176471 0.22352941]]]\n"
          ],
          "name": "stdout"
        }
      ]
    },
    {
      "metadata": {
        "id": "M5e3RvYFoP9P",
        "colab_type": "code",
        "colab": {}
      },
      "cell_type": "code",
      "source": [
        "import tensorflow as tf"
      ],
      "execution_count": 0,
      "outputs": []
    },
    {
      "metadata": {
        "id": "WH9jHgPUlJ6r",
        "colab_type": "code",
        "colab": {}
      },
      "cell_type": "code",
      "source": [
        "image11=tf.extract_image_patches(\n",
        "    x,\n",
        "    [1,150,150,3],\n",
        "    [1,50,50,1],\n",
        "    [1,0,0,0],\n",
        "    \"SAME\",\n",
        "    name=None\n",
        ")"
      ],
      "execution_count": 0,
      "outputs": []
    },
    {
      "metadata": {
        "id": "dXpPqAAXpKZU",
        "colab_type": "code",
        "colab": {
          "base_uri": "https://localhost:8080/",
          "height": 34
        },
        "outputId": "cae72789-d27a-4e61-d207-ea10208ffd51"
      },
      "cell_type": "code",
      "source": [
        "print(image11[0][0][0])"
      ],
      "execution_count": 0,
      "outputs": [
        {
          "output_type": "stream",
          "text": [
            "Tensor(\"strided_slice_4:0\", shape=(67500,), dtype=float32)\n"
          ],
          "name": "stdout"
        }
      ]
    },
    {
      "metadata": {
        "id": "fWu4nYj6qNlC",
        "colab_type": "text"
      },
      "cell_type": "markdown",
      "source": [
        "67500=150x150x3"
      ]
    },
    {
      "metadata": {
        "id": "-VX6zbH0qkcB",
        "colab_type": "code",
        "colab": {}
      },
      "cell_type": "code",
      "source": [
        "init = tf.global_variables_initializer()\n",
        "sess = tf.Session()\n",
        "sess.run(init)\n",
        "\n",
        "array = image11.eval(sess)\n",
        "print (array) \n",
        "\n",
        "prediction=model.predict(array)\n",
        "  \n",
        " "
      ],
      "execution_count": 0,
      "outputs": []
    },
    {
      "metadata": {
        "id": "kwZEvUGEjLaz",
        "colab_type": "code",
        "colab": {}
      },
      "cell_type": "code",
      "source": [
        "i = 0\n",
        "for batch in datagen.flow(x, batch_size=1):\n",
        "    plt.figure(i)\n",
        "    imgplot = plt.imshow(image.array_to_img(batch[0]))\n",
        "    i += 1\n",
        "    if i % 4 == 0:\n",
        "        break\n",
        "\n",
        "plt.show()"
      ],
      "execution_count": 0,
      "outputs": []
    },
    {
      "metadata": {
        "id": "cmEKdqIf_u8S",
        "colab_type": "text"
      },
      "cell_type": "markdown",
      "source": [
        "## Prédictions \n",
        "la fenêtre flottante parcours uniquement l'image avec un carré droit (pas d'angles)"
      ]
    },
    {
      "metadata": {
        "id": "a1y26-HHir2n",
        "colab_type": "code",
        "colab": {
          "base_uri": "https://localhost:8080/",
          "height": 252
        },
        "outputId": "f5faf322-49b8-4719-c52d-55d906b7fad3"
      },
      "cell_type": "code",
      "source": [
        "img = image.load_img('/content/11.jpg')\n",
        "\n",
        "# Convert it to a Numpy array with shape (150, 150, 3)\n",
        "x = image.img_to_array(img)\n",
        "\n",
        "# Reshape it to (1, 150, 150, 3)\n",
        "x = x.reshape((1,) + x.shape)"
      ],
      "execution_count": 56,
      "outputs": [
        {
          "output_type": "error",
          "ename": "AttributeError",
          "evalue": "ignored",
          "traceback": [
            "\u001b[0;31m---------------------------------------------------------------------------\u001b[0m",
            "\u001b[0;31mAttributeError\u001b[0m                            Traceback (most recent call last)",
            "\u001b[0;32m<ipython-input-56-4d5e6ff918e9>\u001b[0m in \u001b[0;36m<module>\u001b[0;34m()\u001b[0m\n\u001b[0;32m----> 1\u001b[0;31m \u001b[0mimg\u001b[0m \u001b[0;34m=\u001b[0m \u001b[0mimage\u001b[0m\u001b[0;34m.\u001b[0m\u001b[0mload_img\u001b[0m\u001b[0;34m(\u001b[0m\u001b[0;34m'/content/11.jpg'\u001b[0m\u001b[0;34m)\u001b[0m\u001b[0;34m\u001b[0m\u001b[0m\n\u001b[0m\u001b[1;32m      2\u001b[0m \u001b[0;34m\u001b[0m\u001b[0m\n\u001b[1;32m      3\u001b[0m \u001b[0;31m# Convert it to a Numpy array with shape (150, 150, 3)\u001b[0m\u001b[0;34m\u001b[0m\u001b[0;34m\u001b[0m\u001b[0m\n\u001b[1;32m      4\u001b[0m \u001b[0mx\u001b[0m \u001b[0;34m=\u001b[0m \u001b[0mimage\u001b[0m\u001b[0;34m.\u001b[0m\u001b[0mimg_to_array\u001b[0m\u001b[0;34m(\u001b[0m\u001b[0mimg\u001b[0m\u001b[0;34m)\u001b[0m\u001b[0;34m\u001b[0m\u001b[0m\n\u001b[1;32m      5\u001b[0m \u001b[0;34m\u001b[0m\u001b[0m\n",
            "\u001b[0;31mAttributeError\u001b[0m: module 'sklearn.feature_extraction.image' has no attribute 'load_img'"
          ]
        }
      ]
    },
    {
      "metadata": {
        "id": "TTx3Yfaww_gD",
        "colab_type": "code",
        "colab": {
          "base_uri": "https://localhost:8080/",
          "height": 36
        },
        "outputId": "21d9d7e9-45cb-4d3a-f339-4a83505dfa89"
      },
      "cell_type": "code",
      "source": [
        "from sklearn.feature_extraction import image\n",
        "import numpy as np\n",
        "\n",
        "#patches_img=image.extract_patches(img_array,patch_shape=(150,150,3),extraction_step=50)\n",
        "patches_img=image.extract_patches_2d(img_array, (50,50), max_patches=0.01, random_state=None)\n",
        "print(patches_img.shape)\n"
      ],
      "execution_count": 96,
      "outputs": [
        {
          "output_type": "stream",
          "text": [
            "(2547, 50, 50, 3)\n"
          ],
          "name": "stdout"
        }
      ]
    },
    {
      "metadata": {
        "id": "mkkeCIsC_hbG",
        "colab_type": "code",
        "colab": {
          "base_uri": "https://localhost:8080/",
          "height": 36
        },
        "outputId": "5d0b5417-78fb-4753-dbb2-71289cc5be33"
      },
      "cell_type": "code",
      "source": [
        "first_patch=patches_img[:]\n",
        "#first_patch = first_patch.reshape((1,) + first_patch.shape)\n",
        "print(first_patch.shape)"
      ],
      "execution_count": 97,
      "outputs": [
        {
          "output_type": "stream",
          "text": [
            "(2547, 50, 50, 3)\n"
          ],
          "name": "stdout"
        }
      ]
    },
    {
      "metadata": {
        "id": "hg5BcnG14vZZ",
        "colab_type": "code",
        "colab": {
          "base_uri": "https://localhost:8080/",
          "height": 286
        },
        "outputId": "42db1b34-a414-46d6-9402-fdb69485923f"
      },
      "cell_type": "code",
      "source": [
        "%matplotlib inline\n",
        "from matplotlib.pyplot import imshow\n",
        "\n",
        "imshow(first_patch[-2])\n",
        "\n",
        "#Image.fromarray(first_patch[0]).show()"
      ],
      "execution_count": 102,
      "outputs": [
        {
          "output_type": "execute_result",
          "data": {
            "text/plain": [
              "<matplotlib.image.AxesImage at 0x7f2afd61d208>"
            ]
          },
          "metadata": {
            "tags": []
          },
          "execution_count": 102
        },
        {
          "output_type": "display_data",
          "data": {
            "image/png": "[encoded data removed]",
            "text/plain": [
              "<matplotlib.figure.Figure at 0x7f2afd6bcb00>"
            ]
          },
          "metadata": {
            "tags": []
          }
        }
      ]
    },
    {
      "metadata": {
        "id": "thjH1n0Z51Zd",
        "colab_type": "code",
        "colab": {
          "base_uri": "https://localhost:8080/",
          "height": 904
        },
        "outputId": "44448595-b19f-4154-c81a-df244ff45c56"
      },
      "cell_type": "code",
      "source": [
        "prediction_first_patch= model.predict(first_patch[2500:])\n",
        "print(prediction_first_patch)"
      ],
      "execution_count": 127,
      "outputs": [
        {
          "output_type": "stream",
          "text": [
            "[[0.7219579 ]\n",
            " [0.73501176]\n",
            " [0.7348712 ]\n",
            " [0.7281397 ]\n",
            " [0.69764304]\n",
            " [0.6401901 ]\n",
            " [0.7260018 ]\n",
            " [0.83631563]\n",
            " [0.61108935]\n",
            " [0.71289325]\n",
            " [0.72718835]\n",
            " [0.7326315 ]\n",
            " [0.23982997]\n",
            " [0.34509942]\n",
            " [0.5211765 ]\n",
            " [0.61487985]\n",
            " [0.718404  ]\n",
            " [0.7292827 ]\n",
            " [0.7359817 ]\n",
            " [0.7255319 ]\n",
            " [0.26067585]\n",
            " [0.8219658 ]\n",
            " [0.37292123]\n",
            " [0.49788764]\n",
            " [0.7084431 ]\n",
            " [0.7403539 ]\n",
            " [0.6748198 ]\n",
            " [0.741248  ]\n",
            " [0.7360305 ]\n",
            " [0.7314741 ]\n",
            " [0.7332777 ]\n",
            " [0.7351724 ]\n",
            " [0.73497665]\n",
            " [0.7246853 ]\n",
            " [0.4109345 ]\n",
            " [0.696095  ]\n",
            " [0.21931602]\n",
            " [0.365046  ]\n",
            " [0.69893503]\n",
            " [0.70005476]\n",
            " [0.6958172 ]\n",
            " [0.73186564]\n",
            " [0.45261148]\n",
            " [0.11146834]\n",
            " [0.7104758 ]\n",
            " [0.7061971 ]\n",
            " [0.81815994]]\n"
          ],
          "name": "stdout"
        }
      ]
    },
    {
      "metadata": {
        "id": "mBhUKVJfCG0y",
        "colab_type": "code",
        "colab": {
          "base_uri": "https://localhost:8080/",
          "height": 305
        },
        "outputId": "60f6815e-38df-43c0-d669-7da76189b332"
      },
      "cell_type": "code",
      "source": [
        "nb=-11\n",
        "print(prediction_first_patch[nb])\n",
        "imshow(first_patch[nb])"
      ],
      "execution_count": 130,
      "outputs": [
        {
          "output_type": "stream",
          "text": [
            "[0.21931602]\n"
          ],
          "name": "stdout"
        },
        {
          "output_type": "execute_result",
          "data": {
            "text/plain": [
              "<matplotlib.image.AxesImage at 0x7f2aec232cc0>"
            ]
          },
          "metadata": {
            "tags": []
          },
          "execution_count": 130
        },
        {
          "output_type": "display_data",
          "data": {
            "image/png": "[encoded data removed]",
            "text/plain": [
              "<matplotlib.figure.Figure at 0x7f2afcd37080>"
            ]
          },
          "metadata": {
            "tags": []
          }
        }
      ]
    },
    {
      "metadata": {
        "id": "blA-kqnvkpKs",
        "colab_type": "code",
        "colab": {
          "base_uri": "https://localhost:8080/",
          "height": 51
        },
        "outputId": "94cd070e-ff72-4945-9a12-e9453f3a0093"
      },
      "cell_type": "code",
      "source": [
        "img2=Image.open('/content/7.jpg')\n",
        "img_array2= np.asarray(img2)[:,:,:3]\n",
        "img_array2=img_array2/255\n",
        "print(img_array2.shape)\n",
        "patches_img2=image.extract_patches_2d(img_array2, (150,150), max_patches=0.1, random_state=None)\n",
        "print(patches_img2.shape)\n"
      ],
      "execution_count": 0,
      "outputs": [
        {
          "output_type": "stream",
          "text": [
            "(225, 225, 3)\n",
            "(577, 150, 150, 3)\n"
          ],
          "name": "stdout"
        }
      ]
    },
    {
      "metadata": {
        "id": "16N3EoZ5k7Je",
        "colab_type": "code",
        "colab": {
          "base_uri": "https://localhost:8080/",
          "height": 303
        },
        "outputId": "ae126bc9-aa31-422e-d6e2-c34028449b85"
      },
      "cell_type": "code",
      "source": [
        "first_patch2=patches_img2[500]\n",
        "first_patch2 = first_patch2.reshape((1,) + first_patch2.shape)\n",
        "print(first_patch2.shape)\n",
        "imshow(first_patch2[0])"
      ],
      "execution_count": 0,
      "outputs": [
        {
          "output_type": "stream",
          "text": [
            "(1, 150, 150, 3)\n"
          ],
          "name": "stdout"
        },
        {
          "output_type": "execute_result",
          "data": {
            "text/plain": [
              "<matplotlib.image.AxesImage at 0x7f41b63dfd68>"
            ]
          },
          "metadata": {
            "tags": []
          },
          "execution_count": 59
        },
        {
          "output_type": "display_data",
          "data": {
            "image/png": "[encoded data removed]",
            "text/plain": [
              "<matplotlib.figure.Figure at 0x7f41b63b4e80>"
            ]
          },
          "metadata": {
            "tags": []
          }
        }
      ]
    },
    {
      "metadata": {
        "id": "EYBOjVenlNaV",
        "colab_type": "code",
        "colab": {
          "base_uri": "https://localhost:8080/",
          "height": 34
        },
        "outputId": "2e38a1ee-77cf-4200-8dbe-de751e75e333"
      },
      "cell_type": "code",
      "source": [
        "prediction_first_patch2= model.predict(first_patch2)\n",
        "print(prediction_first_patch2)"
      ],
      "execution_count": 0,
      "outputs": [
        {
          "output_type": "stream",
          "text": [
            "[[2.796018e-05]]\n"
          ],
          "name": "stdout"
        }
      ]
    },
    {
      "metadata": {
        "id": "7B8dFcYym6SX",
        "colab_type": "code",
        "colab": {
          "base_uri": "https://localhost:8080/",
          "height": 303
        },
        "outputId": "7b98ceb7-5622-4332-df36-2e469701784d"
      },
      "cell_type": "code",
      "source": [
        "first_patch3=patches_img2[4]\n",
        "first_patch3 = first_patch3.reshape((1,) + first_patch3.shape)\n",
        "print(first_patch3.shape)\n",
        "imshow(first_patch3[0])"
      ],
      "execution_count": 0,
      "outputs": [
        {
          "output_type": "stream",
          "text": [
            "(1, 150, 150, 3)\n"
          ],
          "name": "stdout"
        },
        {
          "output_type": "execute_result",
          "data": {
            "text/plain": [
              "<matplotlib.image.AxesImage at 0x7f41b7b3ee48>"
            ]
          },
          "metadata": {
            "tags": []
          },
          "execution_count": 67
        },
        {
          "output_type": "display_data",
          "data": {
            "image/png": "[encoded data removed]",
            "text/plain": [
              "<matplotlib.figure.Figure at 0x7f41b7bb8c50>"
            ]
          },
          "metadata": {
            "tags": []
          }
        }
      ]
    },
    {
      "metadata": {
        "id": "JrF2O_8rrdM0",
        "colab_type": "code",
        "colab": {
          "base_uri": "https://localhost:8080/",
          "height": 34
        },
        "outputId": "75191aca-a03e-4a05-f134-b30338f99043"
      },
      "cell_type": "code",
      "source": [
        "prediction_first_patch3= model.predict(first_patch3)\n",
        "print(prediction_first_patch3)"
      ],
      "execution_count": 0,
      "outputs": [
        {
          "output_type": "stream",
          "text": [
            "[[5.9776437e-05]]\n"
          ],
          "name": "stdout"
        }
      ]
    },
    {
      "metadata": {
        "id": "3CRrmf_jAPz4",
        "colab_type": "text"
      },
      "cell_type": "markdown",
      "source": [
        "# Imprter / Sauver des fichiers depuis Google Drive"
      ]
    },
    {
      "metadata": {
        "id": "0UoFE0KFAX5y",
        "colab_type": "text"
      },
      "cell_type": "markdown",
      "source": [
        "Pour ne pas réexecuter l'ensemble du code à chaque fois, on peut sauver le modèle sur un drive google, et simplement le réuploader quand il faut.\n",
        "On considère avec le programme suivant le drive comme un dossier dans la machine virtuelle."
      ]
    },
    {
      "metadata": {
        "id": "M4mKbI1Y0EfS",
        "colab_type": "code",
        "colab": {}
      },
      "cell_type": "code",
      "source": [
        "# Install a Drive FUSE wrapper.\n",
        "# https://github.com/astrada/google-drive-ocamlfuse\n",
        "!apt-get install -y -qq software-properties-common python-software-properties module-init-tools\n",
        "!add-apt-repository -y ppa:alessandro-strada/ppa 2>&1 > /dev/null\n",
        "!apt-get update -qq 2>&1 > /dev/null\n",
        "!apt-get -y install -qq google-drive-ocamlfuse fuse\n",
        "\n",
        "\n",
        "\n",
        "# Generate auth tokens for Colab\n",
        "from google.colab import auth\n",
        "auth.authenticate_user()\n",
        "\n",
        "\n",
        "# Generate creds for the Drive FUSE library.\n",
        "from oauth2client.client import GoogleCredentials\n",
        "creds = GoogleCredentials.get_application_default()\n",
        "import getpass\n",
        "!google-drive-ocamlfuse -headless -id={creds.client_id} -secret={creds.client_secret} < /dev/null 2>&1 | grep URL\n",
        "vcode = getpass.getpass()\n",
        "!echo {vcode} | google-drive-ocamlfuse -headless -id={creds.client_id} -secret={creds.client_secret}\n",
        "\n",
        "\n",
        "# Create a directory and mount Google Drive using that directory.\n",
        "!mkdir -p drive\n",
        "!google-drive-ocamlfuse drive"
      ],
      "execution_count": 0,
      "outputs": []
    },
    {
      "metadata": {
        "id": "9R1e0KID0xt3",
        "colab_type": "code",
        "colab": {}
      },
      "cell_type": "code",
      "source": [
        "!ls drive"
      ],
      "execution_count": 0,
      "outputs": []
    },
    {
      "metadata": {
        "id": "Hr-cszWW0z4e",
        "colab_type": "code",
        "colab": {}
      },
      "cell_type": "code",
      "source": [
        "!cp grasping_vgg16_50.h5 /content/drive"
      ],
      "execution_count": 0,
      "outputs": []
    }
  ]
}